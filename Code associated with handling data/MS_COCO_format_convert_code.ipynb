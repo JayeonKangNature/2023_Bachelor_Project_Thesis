{
  "nbformat": 4,
  "nbformat_minor": 0,
  "metadata": {
    "colab": {
      "provenance": [],
      "mount_file_id": "16Dr0r6CppVL88-hkKMBUGNM32CmR-So3",
      "authorship_tag": "ABX9TyN1HXVDLz1dlUQG++Z7maXb",
      "include_colab_link": true
    },
    "kernelspec": {
      "name": "python3",
      "display_name": "Python 3"
    },
    "language_info": {
      "name": "python"
    }
  },
  "cells": [
    {
      "cell_type": "markdown",
      "metadata": {
        "id": "view-in-github",
        "colab_type": "text"
      },
      "source": [
        "<a href=\"https://colab.research.google.com/github/JayeonKangNature/Bachelor_Project_Thesis_2023/blob/main/MS_COCO_format_convert_code.ipynb\" target=\"_parent\"><img src=\"https://colab.research.google.com/assets/colab-badge.svg\" alt=\"Open In Colab\"/></a>"
      ]
    },
    {
      "cell_type": "code",
      "execution_count": null,
      "metadata": {
        "id": "aXCr6_gLlk-N",
        "colab": {
          "base_uri": "https://localhost:8080/"
        },
        "outputId": "1222ecf8-c9ee-4d73-8520-38b422cc45b5"
      },
      "outputs": [
        {
          "output_type": "stream",
          "name": "stdout",
          "text": [
            "Mounted at /content/drive/\n"
          ]
        }
      ],
      "source": [
        "# For mouting\n",
        "from google.colab import drive\n",
        "import torch\n",
        "import os\n",
        "import json\n",
        "\n",
        "drive.mount('/content/drive/', force_remount=True)"
      ]
    },
    {
      "cell_type": "code",
      "source": [
        "Base_Path = '/content/drive/MyDrive/BSc_Project/Kvasir-SEG'\n",
        "Annots_Path = os.path.sep.join([Base_Path, 'annotation/_kavsir_bboxes.json'])\n",
        "Image_Path = os.path.sep.join([Base_Path, '/images'])"
      ],
      "metadata": {
        "id": "H-PZEBkXlsej"
      },
      "execution_count": null,
      "outputs": []
    },
    {
      "cell_type": "markdown",
      "source": [
        "# Sample coco format"
      ],
      "metadata": {
        "id": "1-0F6FrQNFuY"
      }
    },
    {
      "cell_type": "code",
      "source": [
        "with open('/content/drive/MyDrive/BSc_Project/Natural_image/annotations/instances_val2017.json','r') as sample:\n",
        "  sample_coco = json.load(sample)"
      ],
      "metadata": {
        "id": "z_B_woJQKe8U"
      },
      "execution_count": null,
      "outputs": []
    },
    {
      "cell_type": "markdown",
      "source": [
        "# Before edit modify_coco format"
      ],
      "metadata": {
        "id": "vnuxoIGbLKJn"
      }
    },
    {
      "cell_type": "code",
      "source": [
        "# def modify_cocoformat(Dictionary:dict):\n",
        "#   modified_coco = {'images':[],'annotations':[],'categories':[]}\n",
        "#   image_id = 1\n",
        "#   cat_id = 1\n",
        "\n",
        "#   for image_ in list(Dictionary.keys()):\n",
        "#       info = Dictionary[image_]\n",
        "#       image_dat = {\n",
        "#         'id': image_id,\n",
        "#         'file_name': image_ + '.jpg'\n",
        "#       }\n",
        "#       modified_coco['images'].append(image_dat)\n",
        "\n",
        "#       bboxes = info['bbox']\n",
        "#       ann_id = 1\n",
        "#       for i in range(len(bboxes)):\n",
        "#         bbox = bboxes[i]\n",
        "#         category = bbox['label']\n",
        "#         category_data = {\n",
        "#                         \"id\": cat_id,\n",
        "#                         \"name\": category\n",
        "#                     }\n",
        "\n",
        "#         xmin = bbox['xmin']\n",
        "#         ymin = bbox['ymin']\n",
        "#         width = abs(xmin - bbox['xmax'])\n",
        "#         height = abs(ymin - bbox['ymax'])\n",
        "#         ann_data = {\n",
        "#                     \"id\": ann_id,\n",
        "#                     \"image_id\": image_id,\n",
        "#                     \"category_id\": cat_id,\n",
        "#                     \"bbox\": [xmin,ymin,width,height],\n",
        "#                     \"area\": height * width,\n",
        "#                     \"iscrowd\": 0\n",
        "#                 }\n",
        "#         ann_id += 1\n",
        "#         modified_coco['annotations'].append(ann_data)\n",
        "#         modified_coco['categories'].append(category_data)\n",
        "#       image_id += 1\n",
        "#   return modified_coco\n"
      ],
      "metadata": {
        "id": "WFXc4RdxlunD"
      },
      "execution_count": null,
      "outputs": []
    },
    {
      "cell_type": "markdown",
      "source": [
        "# After edite modify_cocoformat"
      ],
      "metadata": {
        "id": "ny9ap8TTLOGv"
      }
    },
    {
      "cell_type": "code",
      "source": [
        "def modify_cocoformat(Dictionary:dict):\n",
        "  modified_coco = {'images':[],'annotations':[],'categories':[]}\n",
        "  image_id = 1\n",
        "  cat_id = 1\n",
        "\n",
        "  category = 'polyp'\n",
        "  category_data = {\n",
        "                        \"id\": cat_id,\n",
        "                        \"name\": category,\n",
        "\n",
        "                    }\n",
        "  modified_coco['categories'].append(category_data)\n",
        "\n",
        "  for image_ in list(Dictionary.keys()):\n",
        "      info = Dictionary[image_]\n",
        "      image_dat = {\n",
        "        'id': image_id,\n",
        "        'file_name': image_ + '.jpg',\n",
        "        'width': info['width'],\n",
        "        'height': info['height']\n",
        "      }\n",
        "      modified_coco['images'].append(image_dat)\n",
        "      bboxes = info['bbox']\n",
        "      ann_id = 1\n",
        "      for i in range(len(bboxes)):\n",
        "        bbox = bboxes[i]\n",
        "        xmin = bbox['xmin']\n",
        "        ymin = bbox['ymin']\n",
        "        width = abs(xmin - bbox['xmax'])\n",
        "        height = abs(ymin - bbox['ymax'])\n",
        "        ann_data = {\n",
        "                    \"id\": ann_id,\n",
        "                    \"image_id\": image_id,\n",
        "                    \"category_id\": cat_id,\n",
        "                    \"bbox\": [xmin,ymin,width,height],\n",
        "                    \"area\": height * width,\n",
        "                    \"iscrowd\": 0\n",
        "                }\n",
        "        ann_id += 1\n",
        "        modified_coco['annotations'].append(ann_data)\n",
        "      image_id += 1\n",
        "  return modified_coco\n"
      ],
      "metadata": {
        "id": "Zw5Pg5yuLU-m"
      },
      "execution_count": null,
      "outputs": []
    },
    {
      "cell_type": "code",
      "source": [],
      "metadata": {
        "id": "Nechc3Zu3mcG"
      },
      "execution_count": null,
      "outputs": []
    },
    {
      "cell_type": "markdown",
      "source": [
        "# Train 700 Test 300"
      ],
      "metadata": {
        "id": "GOSTCkWuJFVP"
      }
    },
    {
      "cell_type": "code",
      "source": [
        "# Load the COCO JSON file\n",
        "with open(Annots_Path, 'r') as f:\n",
        "    coco_data = json.load(f)\n",
        "Collect_image_ids = list(coco_data.keys())\n",
        "Collect_image_ann = list(coco_data.values())\n",
        "Train_image_ids = Collect_image_ids[:700]\n",
        "Train_image_anns = Collect_image_ann[:700]\n",
        "Test_image_ids = Collect_image_ids[700:]\n",
        "Test_image_anns = Collect_image_ann[700:]\n",
        "Train_ = modify_cocoformat(dict(zip(Train_image_ids, Train_image_anns)))\n",
        "Test_ = modify_cocoformat(dict(zip(Test_image_ids, Test_image_anns)))\n",
        "\n",
        "# Save coco json file\n",
        "with open('Train_700.json', 'w') as f:\n",
        "    json.dump(Train_, f)\n",
        "\n",
        "with open('Val_300.json', 'w') as f:\n",
        "    json.dump(Test_, f)\n"
      ],
      "metadata": {
        "id": "aa9fgAUdlzAE"
      },
      "execution_count": null,
      "outputs": []
    },
    {
      "cell_type": "code",
      "source": [
        "with open('Val_300.json','r') as f:\n",
        "  coco = json.load(f)\n",
        "\n",
        "print(coco)"
      ],
      "metadata": {
        "colab": {
          "base_uri": "https://localhost:8080/"
        },
        "id": "dAgfm0C63nqw",
        "outputId": "0d36b983-0e67-4706-b9b2-587e1b93ebab"
      },
      "execution_count": null,
      "outputs": [
        {
          "output_type": "stream",
          "name": "stdout",
          "text": [
            "{'images': [{'id': 1, 'file_name': 'cju7bb3ss1uoo0755pmhyco7t.jpg', 'width': 502, 'height': 529}, {'id': 2, 'file_name': 'cju7bc95p1mdm0817yqj5jc6j.jpg', 'width': 622, 'height': 529}, {'id': 3, 'file_name': 'cju7bd1qu1mx409877xjxibox.jpg', 'width': 570, 'height': 530}, {'id': 4, 'file_name': 'cju7bduyq1rjf08719giru9ho.jpg', 'width': 622, 'height': 508}, {'id': 5, 'file_name': 'cju7bf1lp1shi081835vs84lc.jpg', 'width': 570, 'height': 530}, {'id': 6, 'file_name': 'cju7bfx651qr80801cs7epotb.jpg', 'width': 622, 'height': 528}, {'id': 7, 'file_name': 'cju7bgnvb1sf808717qa799ir.jpg', 'width': 590, 'height': 528}, {'id': 8, 'file_name': 'cju7bmi1v1pnj0987pa52jjok.jpg', 'width': 614, 'height': 530}, {'id': 9, 'file_name': 'cju7cl8zm1xcu0817ado0jpas.jpg', 'width': 570, 'height': 530}, {'id': 10, 'file_name': 'cju7cp6dw244p0818gncdol4m.jpg', 'width': 622, 'height': 530}, {'id': 11, 'file_name': 'cju7cq6su27qv075574dir0r3.jpg', 'width': 622, 'height': 530}, {'id': 12, 'file_name': 'cju7csvlb22fr0850lvm45n3x.jpg', 'width': 622, 'height': 530}, {'id': 13, 'file_name': 'cju7ctvqn25dy08186g442m1r.jpg', 'width': 622, 'height': 531}, {'id': 14, 'file_name': 'cju7cue9b232j0801qdzk1ykj.jpg', 'width': 613, 'height': 528}, {'id': 15, 'file_name': 'cju7cufm7298k0755j09uf3of.jpg', 'width': 614, 'height': 531}, {'id': 16, 'file_name': 'cju7d1tvt25bu08019dvw3uff.jpg', 'width': 571, 'height': 531}, {'id': 17, 'file_name': 'cju7d2q1k27nf08715zshsckt.jpg', 'width': 620, 'height': 530}, {'id': 18, 'file_name': 'cju7d3oc82cho0755dajlwldz.jpg', 'width': 622, 'height': 529}, {'id': 19, 'file_name': 'cju7d4jk723eu0817bqz2n39m.jpg', 'width': 615, 'height': 530}, {'id': 20, 'file_name': 'cju7d5m0p23kn09871rk7pu3v.jpg', 'width': 563, 'height': 531}, {'id': 21, 'file_name': 'cju7d6ux323ze0987xos3srkx.jpg', 'width': 621, 'height': 527}, {'id': 22, 'file_name': 'cju7d7aut2a2p0818z4uxc6cd.jpg', 'width': 621, 'height': 530}, {'id': 23, 'file_name': 'cju7d7tly27h408016fyp5nr7.jpg', 'width': 528, 'height': 528}, {'id': 24, 'file_name': 'cju7d8m3b2e210755l8fj1yph.jpg', 'width': 619, 'height': 528}, {'id': 25, 'file_name': 'cju7da88w2eod0755wejzynvt.jpg', 'width': 622, 'height': 484}, {'id': 26, 'file_name': 'cju7db7lp2f400755tntd1ohf.jpg', 'width': 612, 'height': 522}, {'id': 27, 'file_name': 'cju7dbppn28nx085097654msi.jpg', 'width': 626, 'height': 546}, {'id': 28, 'file_name': 'cju7dda8w2br20818zhsuz8s7.jpg', 'width': 564, 'height': 530}, {'id': 29, 'file_name': 'cju7ddtz729960801uazp1knc.jpg', 'width': 622, 'height': 528}, {'id': 30, 'file_name': 'cju7deifq2fzn0755lc8idyh8.jpg', 'width': 626, 'height': 547}, {'id': 31, 'file_name': 'cju7dff9529h208503w60lbil.jpg', 'width': 619, 'height': 530}, {'id': 32, 'file_name': 'cju7dglf226g50987ohbthl19.jpg', 'width': 621, 'height': 528}, {'id': 33, 'file_name': 'cju7dhpsc2dnn0818025m6857.jpg', 'width': 554, 'height': 531}, {'id': 34, 'file_name': 'cju7dizi82h2i0755doucgnt3.jpg', 'width': 622, 'height': 529}, {'id': 35, 'file_name': 'cju7dlk532dsh0871zvr6qz0r.jpg', 'width': 627, 'height': 547}, {'id': 36, 'file_name': 'cju7dmlgf2ebw0871ieqas5fh.jpg', 'width': 608, 'height': 529}, {'id': 37, 'file_name': 'cju7dn24o296i09871qfxb8s2.jpg', 'width': 626, 'height': 547}, {'id': 38, 'file_name': 'cju7dp3dw2k4n0755zhe003ad.jpg', 'width': 626, 'height': 546}, {'id': 39, 'file_name': 'cju7dqcwi2dz00850gcmr2ert.jpg', 'width': 622, 'height': 528}, {'id': 40, 'file_name': 'cju7druhp2gp308715i6km7be.jpg', 'width': 626, 'height': 546}, {'id': 41, 'file_name': 'cju7dsrtb2f8i085064kwugfk.jpg', 'width': 584, 'height': 530}, {'id': 42, 'file_name': 'cju7dtb1e2j0t0818deq51ib3.jpg', 'width': 622, 'height': 528}, {'id': 43, 'file_name': 'cju7dubap2g0w0801fgl42mg9.jpg', 'width': 623, 'height': 528}, {'id': 44, 'file_name': 'cju7dvl5m2n4t0755hlnnjjet.jpg', 'width': 537, 'height': 530}, {'id': 45, 'file_name': 'cju7dwe282dc309876rco45ts.jpg', 'width': 622, 'height': 530}, {'id': 46, 'file_name': 'cju7dxffn2eam0817qxosfwch.jpg', 'width': 626, 'height': 546}, {'id': 47, 'file_name': 'cju7dymur2od30755eg8yv2ht.jpg', 'width': 622, 'height': 530}, {'id': 48, 'file_name': 'cju7dz5yy2i7z0801ausi7rna.jpg', 'width': 619, 'height': 529}, {'id': 49, 'file_name': 'cju7ea4om2l910801bohqjccy.jpg', 'width': 626, 'height': 546}, {'id': 50, 'file_name': 'cju7ebe962hr409872ovibahw.jpg', 'width': 622, 'height': 530}, {'id': 51, 'file_name': 'cju7eea9b2m0z0801ynqv1fqu.jpg', 'width': 1224, 'height': 1012}, {'id': 52, 'file_name': 'cju7efffp2ivf0817etg3jehl.jpg', 'width': 626, 'height': 546}, {'id': 53, 'file_name': 'cju7ehljc2or70871261br8ai.jpg', 'width': 569, 'height': 531}, {'id': 54, 'file_name': 'cju7ejm2l2ncl0801wq6y84nw.jpg', 'width': 626, 'height': 546}, {'id': 55, 'file_name': 'cju7ekbo32pft0871fv7kzwb9.jpg', 'width': 571, 'height': 521}, {'id': 56, 'file_name': 'cju7el6xv2k520817qxx9wdr5.jpg', 'width': 626, 'height': 546}, {'id': 57, 'file_name': 'cju7emdni2py40871ivhxjtut.jpg', 'width': 622, 'height': 529}, {'id': 58, 'file_name': 'cju7eotqi2qea0871y8yc7tqh.jpg', 'width': 626, 'height': 546}, {'id': 59, 'file_name': 'cju7epwj82koz098713apjnzo.jpg', 'width': 622, 'height': 528}, {'id': 60, 'file_name': 'cju7er4kc2opa0801anuxc0eb.jpg', 'width': 622, 'height': 528}, {'id': 61, 'file_name': 'cju7es23b2vcp0755gpbm9s7v.jpg', 'width': 584, 'height': 529}, {'id': 62, 'file_name': 'cju7et17a2vjk0755e743npl1.jpg', 'width': 626, 'height': 546}, {'id': 63, 'file_name': 'cju7etr3y2p4t0801cdzjj8ab.jpg', 'width': 623, 'height': 528}, {'id': 64, 'file_name': 'cju7ev2b12owa08500bpfpwyw.jpg', 'width': 622, 'height': 530}, {'id': 65, 'file_name': 'cju7evxt12m730987rxivne3x.jpg', 'width': 510, 'height': 528}, {'id': 66, 'file_name': 'cju7ey10f2rvf0871bwbi9x82.jpg', 'width': 622, 'height': 530}, {'id': 67, 'file_name': 'cju7ez7r22qbc08015xfoz2wb.jpg', 'width': 612, 'height': 530}, {'id': 68, 'file_name': 'cju7ezs7g2mxm098787atbran.jpg', 'width': 622, 'height': 530}, {'id': 69, 'file_name': 'cju7f0ec32txj08184asb8w5f.jpg', 'width': 604, 'height': 445}, {'id': 70, 'file_name': 'cju7f4sc62xqj075597xpmuoy.jpg', 'width': 626, 'height': 547}, {'id': 71, 'file_name': 'cju7f5ghb2r5s0801chwkxxh9.jpg', 'width': 1220, 'height': 1010}, {'id': 72, 'file_name': 'cju7f6cqy2ur20818t1saazbm.jpg', 'width': 626, 'height': 546}, {'id': 73, 'file_name': 'cju7f900s2o0k08175gl1giid.jpg', 'width': 622, 'height': 529}, {'id': 74, 'file_name': 'cju7f9umg2olj0987fj5y285w.jpg', 'width': 622, 'height': 529}, {'id': 75, 'file_name': 'cju7fazv92ywx0755xov2erga.jpg', 'width': 605, 'height': 528}, {'id': 76, 'file_name': 'cju7fbndk2sl608015ravktum.jpg', 'width': 569, 'height': 530}, {'id': 77, 'file_name': 'cju5y4hgqmk0i08180rjhbwvp.jpg', 'width': 626, 'height': 547}, {'id': 78, 'file_name': 'cju6uzxk0v83p0801rcwnexdu.jpg', 'width': 626, 'height': 547}, {'id': 79, 'file_name': 'cju6w733bveoz0817e600tw72.jpg', 'width': 477, 'height': 530}, {'id': 80, 'file_name': 'cju6ywm40wdbo0987pbftsvtg.jpg', 'width': 622, 'height': 528}, {'id': 81, 'file_name': 'cju773hsyyosz0817pk1e7sjq.jpg', 'width': 618, 'height': 530}, {'id': 82, 'file_name': 'cju77vvcwzcm50850lzoykuva.jpg', 'width': 618, 'height': 529}, {'id': 83, 'file_name': 'cju7alcgr1lsr0871riqk84z7.jpg', 'width': 622, 'height': 530}, {'id': 84, 'file_name': 'cju7b4mtw1n9n080186209f3d.jpg', 'width': 600, 'height': 528}, {'id': 85, 'file_name': 'cju7crgxa28550755wbsgqkel.jpg', 'width': 622, 'height': 504}, {'id': 86, 'file_name': 'cju7d9seq29zd0871nzl2uu5m.jpg', 'width': 622, 'height': 528}, {'id': 87, 'file_name': 'cju7do8c72dbo0801vxfzxdc4.jpg', 'width': 626, 'height': 547}, {'id': 88, 'file_name': 'cju7ecl9i2i060987xawjp4l0.jpg', 'width': 622, 'height': 529}, {'id': 89, 'file_name': 'cju7eueum2oqn0850rodmx8zo.jpg', 'width': 562, 'height': 530}, {'id': 90, 'file_name': 'cju2r2obh2bjm08553kng0rh7.jpg', 'width': 474, 'height': 458}, {'id': 91, 'file_name': 'cju35mdz73x890835eynq1h9v.jpg', 'width': 570, 'height': 529}, {'id': 92, 'file_name': 'cju5wqonpm0e60801z88ewmy1.jpg', 'width': 622, 'height': 528}, {'id': 93, 'file_name': 'cju7fcgbe2z3p07550vaflqdb.jpg', 'width': 620, 'height': 530}, {'id': 94, 'file_name': 'cju7fd6yt2p740987wkr8exo1.jpg', 'width': 613, 'height': 530}, {'id': 95, 'file_name': 'cju7fen322ou10817ziqkob4k.jpg', 'width': 622, 'height': 528}, {'id': 96, 'file_name': 'cju7ff97z2ow40817u2r83my5.jpg', 'width': 622, 'height': 529}, {'id': 97, 'file_name': 'cju7flevb2wii08188otgs9p2.jpg', 'width': 600, 'height': 528}, {'id': 98, 'file_name': 'cju7fmvpk2q170987v6i3ola8.jpg', 'width': 620, 'height': 531}, {'id': 99, 'file_name': 'cju7fnfv02tt90801djnix9m8.jpg', 'width': 622, 'height': 528}, {'id': 100, 'file_name': 'cju7fob3x301u0755x985pmmq.jpg', 'width': 577, 'height': 528}, {'id': 101, 'file_name': 'cju7fpfzq2wyf0818xxd1oziv.jpg', 'width': 570, 'height': 530}, {'id': 102, 'file_name': 'cju7fq7mm2pw508176uk5ugtx.jpg', 'width': 571, 'height': 506}, {'id': 103, 'file_name': 'cju7frtqu2xa20818wq8r9fzf.jpg', 'width': 619, 'height': 531}, {'id': 104, 'file_name': 'cju7g7ba42z310987bqzbi2bq.jpg', 'width': 588, 'height': 530}, {'id': 105, 'file_name': 'cju83h9ysjwe808716nt35oah.jpg', 'width': 571, 'height': 531}, {'id': 106, 'file_name': 'cju83ipu3jwpx0801z5pvguf8.jpg', 'width': 622, 'height': 529}, {'id': 107, 'file_name': 'cju83kxitjv340987z09m0ezy.jpg', 'width': 626, 'height': 546}, {'id': 108, 'file_name': 'cju83mki1jv5w0817kubxm31r.jpg', 'width': 625, 'height': 547}, {'id': 109, 'file_name': 'cju83nwu1jxte0987h1krpfmv.jpg', 'width': 621, 'height': 528}, {'id': 110, 'file_name': 'cju83qd0yjyht0817ktkfl268.jpg', 'width': 572, 'height': 531}, {'id': 111, 'file_name': 'cju83rcnzkbsj0755x5anfrcg.jpg', 'width': 572, 'height': 529}, {'id': 112, 'file_name': 'cju83syhdk6gs0801rf1rekdl.jpg', 'width': 626, 'height': 546}, {'id': 113, 'file_name': 'cju83u9ftk3ni0987qnhlcinv.jpg', 'width': 576, 'height': 476}, {'id': 114, 'file_name': 'cju83vvmik9wa08710yeh7cuk.jpg', 'width': 570, 'height': 530}, {'id': 115, 'file_name': 'cju83wwn1k55e0850kw6i2d81.jpg', 'width': 622, 'height': 527}, {'id': 116, 'file_name': 'cju83yddek68q0850d2x7zfkm.jpg', 'width': 622, 'height': 529}, {'id': 117, 'file_name': 'cju8402x1kcy70801t6kz6bdi.jpg', 'width': 626, 'height': 547}, {'id': 118, 'file_name': 'cju8418jhkf7d0818ga2v0xq0.jpg', 'width': 626, 'height': 546}, {'id': 119, 'file_name': 'cju8432cmkgq90871cxe4iptl.jpg', 'width': 626, 'height': 546}, {'id': 120, 'file_name': 'cju846ec0kj7z08012o10klrb.jpg', 'width': 616, 'height': 530}, {'id': 121, 'file_name': 'cju847pxykriq0755268ktrk2.jpg', 'width': 606, 'height': 531}, {'id': 122, 'file_name': 'cju849c23kgnk0817cgv2hw1e.jpg', 'width': 622, 'height': 531}, {'id': 123, 'file_name': 'cju84aoa3ktwn0755pfl4gfwd.jpg', 'width': 626, 'height': 547}, {'id': 124, 'file_name': 'cju84dsvaklpx098750hp83x4.jpg', 'width': 570, 'height': 530}, {'id': 125, 'file_name': 'cju84ffdzkrjn08183jh1fxmb.jpg', 'width': 616, 'height': 529}, {'id': 126, 'file_name': 'cju84gpefknwm098714oq8q61.jpg', 'width': 622, 'height': 528}, {'id': 127, 'file_name': 'cju84hibuktj80871u519o71q.jpg', 'width': 622, 'height': 529}, {'id': 128, 'file_name': 'cju84ih17kp5l09876bkooocl.jpg', 'width': 622, 'height': 531}, {'id': 129, 'file_name': 'cju84jdl9kv0i0871eog9b3i9.jpg', 'width': 1348, 'height': 1070}, {'id': 130, 'file_name': 'cju84kplnl1y30755ropua1b0.jpg', 'width': 622, 'height': 528}, {'id': 131, 'file_name': 'cju8567gdlcbq0801dwwyo2jt.jpg', 'width': 570, 'height': 530}, {'id': 132, 'file_name': 'cju857ad0l88m0817qx4cwxnf.jpg', 'width': 623, 'height': 529}, {'id': 133, 'file_name': 'cju85a8h8llwm07559wxg4t5w.jpg', 'width': 622, 'height': 529}, {'id': 134, 'file_name': 'cju85bf1algsq0871y9gtlq97.jpg', 'width': 475, 'height': 528}, {'id': 135, 'file_name': 'cju85c2d4ln1b0755zz1z3onx.jpg', 'width': 599, 'height': 531}, {'id': 136, 'file_name': 'cju85citjlnfm0755i4rk5tqj.jpg', 'width': 623, 'height': 547}, {'id': 137, 'file_name': 'cju85dx63lic408017f0l0400.jpg', 'width': 595, 'height': 528}, {'id': 138, 'file_name': 'cju85fc11ljr40818edpb0inh.jpg', 'width': 607, 'height': 528}, {'id': 139, 'file_name': 'cju85hguellg50818kwu3s8d1.jpg', 'width': 622, 'height': 528}, {'id': 140, 'file_name': 'cju85ia1slh220987y7c20sm2.jpg', 'width': 622, 'height': 528}, {'id': 141, 'file_name': 'cju85je7vlht70817c9jcjwi4.jpg', 'width': 1220, 'height': 1011}, {'id': 142, 'file_name': 'cju85l4yjlops0801fvmnwptf.jpg', 'width': 570, 'height': 531}, {'id': 143, 'file_name': 'cju85mpuglq8k0818d2it6hzb.jpg', 'width': 615, 'height': 546}, {'id': 144, 'file_name': 'cju85nr8elly209872w9n5m0s.jpg', 'width': 615, 'height': 529}, {'id': 145, 'file_name': 'cju85omszllp30850b6rm9mi3.jpg', 'width': 622, 'height': 531}, {'id': 146, 'file_name': 'cju85qefyln6v0850szeb9byi.jpg', 'width': 570, 'height': 529}, {'id': 147, 'file_name': 'cju85rkbnlo1c08503uxcpax1.jpg', 'width': 622, 'height': 531}, {'id': 148, 'file_name': 'cju87kbcen2av0987usezo8kn.jpg', 'width': 591, 'height': 530}, {'id': 149, 'file_name': 'cju87li0zn3yb0817kbwgjiz8.jpg', 'width': 562, 'height': 449}, {'id': 150, 'file_name': 'cju87mrypnb1e0818scv1mxxg.jpg', 'width': 615, 'height': 530}, {'id': 151, 'file_name': 'cju87nkyrnb970801q84m47yt.jpg', 'width': 620, 'height': 530}, {'id': 152, 'file_name': 'cju87ox0kncom0801b98hqnd2.jpg', 'width': 626, 'height': 546}, {'id': 153, 'file_name': 'cju87q6yoneim0871dl4phvkd.jpg', 'width': 626, 'height': 546}, {'id': 154, 'file_name': 'cju87r56lnkyp0755hz30leew.jpg', 'width': 566, 'height': 429}, {'id': 155, 'file_name': 'cju87tyddnnad0755bj0wxahe.jpg', 'width': 551, 'height': 477}, {'id': 156, 'file_name': 'cju87vqa0ndwg0850onjdz7ol.jpg', 'width': 556, 'height': 530}, {'id': 157, 'file_name': 'cju87xn2snfmv0987sc3d9xnq.jpg', 'width': 604, 'height': 530}, {'id': 158, 'file_name': 'cju87z6o6nh73085045bzsx6o.jpg', 'width': 622, 'height': 530}, {'id': 159, 'file_name': 'cju8828oxnool0801qno9luhr.jpg', 'width': 622, 'height': 528}, {'id': 160, 'file_name': 'cju884985nlmx0817vzpax3y4.jpg', 'width': 581, 'height': 529}, {'id': 161, 'file_name': 'cju885ikhnmkn09878s2lqtuh.jpg', 'width': 570, 'height': 530}, {'id': 162, 'file_name': 'cju886ryxnsl50801r93jai7q.jpg', 'width': 622, 'height': 530}, {'id': 163, 'file_name': 'cju887ftknop008177nnjt46y.jpg', 'width': 619, 'height': 528}, {'id': 164, 'file_name': 'cju888fr7nveu0818r9uwtiit.jpg', 'width': 571, 'height': 530}, {'id': 165, 'file_name': 'cju88aq6vo1ij0755c2ey7z7n.jpg', 'width': 570, 'height': 530}, {'id': 166, 'file_name': 'cju88cddensj00987788yotmg.jpg', 'width': 622, 'height': 531}, {'id': 167, 'file_name': 'cju88evxanv9r08176zkeovec.jpg', 'width': 570, 'height': 530}, {'id': 168, 'file_name': 'cju88fpm4o0tl0871w1i6a4ds.jpg', 'width': 611, 'height': 423}, {'id': 169, 'file_name': 'cju88gx09o2vk0818610zody3.jpg', 'width': 626, 'height': 547}, {'id': 170, 'file_name': 'cju88itqbny720987hxizbj5y.jpg', 'width': 570, 'height': 530}, {'id': 171, 'file_name': 'cju88k75inzyb0850ccv5x3vk.jpg', 'width': 549, 'height': 531}, {'id': 172, 'file_name': 'cju88msmoo3470817m441j4sg.jpg', 'width': 615, 'height': 530}, {'id': 173, 'file_name': 'cju88nroho44508500129f1nh.jpg', 'width': 621, 'height': 530}, {'id': 174, 'file_name': 'cju88oh0po9gq0801nge4tgr1.jpg', 'width': 604, 'height': 531}, {'id': 175, 'file_name': 'cju88q6h6obpd0871ckmiabbo.jpg', 'width': 626, 'height': 546}, {'id': 176, 'file_name': 'cju88rl5eo94l0850kf5wtrm1.jpg', 'width': 590, 'height': 530}, {'id': 177, 'file_name': 'cju88t4fvokxf07558ymyh281.jpg', 'width': 570, 'height': 530}, {'id': 178, 'file_name': 'cju88trl3ogi208716qvti51b.jpg', 'width': 540, 'height': 530}, {'id': 179, 'file_name': 'cju88v2f9oi8w0871hx9auh01.jpg', 'width': 626, 'height': 546}, {'id': 180, 'file_name': 'cju88vx2uoocy075531lc63n3.jpg', 'width': 596, 'height': 508}, {'id': 181, 'file_name': 'cju88y1mwoln50871emyfny1g.jpg', 'width': 621, 'height': 529}, {'id': 182, 'file_name': 'cju88z8bson4h0871nnd7fdxo.jpg', 'width': 626, 'height': 546}, {'id': 183, 'file_name': 'cju890guyoiti098753yg6cdu.jpg', 'width': 626, 'height': 547}, {'id': 184, 'file_name': 'cju8914beokbf0850isxpocrk.jpg', 'width': 626, 'height': 547}, {'id': 185, 'file_name': 'cju893jmdompz0817xn3g1w4h.jpg', 'width': 626, 'height': 547}, {'id': 186, 'file_name': 'cju89y9h0puti0818i5yw29e6.jpg', 'width': 626, 'height': 547}, {'id': 187, 'file_name': 'cju89z6pqpqfx0817mfv8ixjc.jpg', 'width': 622, 'height': 531}, {'id': 188, 'file_name': 'cju8a1jtvpt9m081712iwkca7.jpg', 'width': 1348, 'height': 1070}, {'id': 189, 'file_name': 'cju8a2itsq4dv0755ntlovpxe.jpg', 'width': 582, 'height': 531}, {'id': 190, 'file_name': 'cju8a3nhbpwnb0850d37fo2na.jpg', 'width': 622, 'height': 528}, {'id': 191, 'file_name': 'cju8a56vxpy780850r45yu4wk.jpg', 'width': 584, 'height': 530}, {'id': 192, 'file_name': 'cju8a84g0q76m0818hwiggkod.jpg', 'width': 554, 'height': 529}, {'id': 193, 'file_name': 'cju8abobpqbir08189u01huru.jpg', 'width': 626, 'height': 547}, {'id': 194, 'file_name': 'cju8adb60qbiu080188mxpf8d.jpg', 'width': 623, 'height': 528}, {'id': 195, 'file_name': 'cju8aeei7q8k308173n9y4klv.jpg', 'width': 606, 'height': 528}, {'id': 196, 'file_name': 'cju8aj01yqeqm0850lhdz3xdw.jpg', 'width': 622, 'height': 531}, {'id': 197, 'file_name': 'cju8alhigqn2h0801zksudldd.jpg', 'width': 614, 'height': 528}, {'id': 198, 'file_name': 'cju8ando2qqdo0818ck7i1be1.jpg', 'width': 570, 'height': 530}, {'id': 199, 'file_name': 'cju8apjewqrk00801k5d71gky.jpg', 'width': 451, 'height': 530}, {'id': 200, 'file_name': 'cju8aqq8uqmoq0987hphto9gg.jpg', 'width': 626, 'height': 546}, {'id': 201, 'file_name': 'cju8arof2qpf20850ifr1bnqj.jpg', 'width': 594, 'height': 530}, {'id': 202, 'file_name': 'cju8ashhnquqr0801rwduzt7d.jpg', 'width': 1220, 'height': 1011}, {'id': 203, 'file_name': 'cju8at3s1qqqx0850hcq8nmnq.jpg', 'width': 593, 'height': 529}, {'id': 204, 'file_name': 'cju8auylgqx0z0871u4o4db7o.jpg', 'width': 622, 'height': 531}, {'id': 205, 'file_name': 'cju8aw9n1qyg10801jkjlmors.jpg', 'width': 622, 'height': 530}, {'id': 206, 'file_name': 'cju8axq24r4an0755yhv9d4ly.jpg', 'width': 603, 'height': 530}, {'id': 207, 'file_name': 'cju8ayeq7r1fb0818z1junacy.jpg', 'width': 602, 'height': 528}, {'id': 208, 'file_name': 'cju8azmhcr66e0755t61atz72.jpg', 'width': 548, 'height': 531}, {'id': 209, 'file_name': 'cju8b0jr0r2oi0801jiquetd5.jpg', 'width': 621, 'height': 528}, {'id': 210, 'file_name': 'cju8b1v3br45u087189kku66u.jpg', 'width': 626, 'height': 546}, {'id': 211, 'file_name': 'cju8b3ka8r64u0801fh18hk7l.jpg', 'width': 626, 'height': 546}, {'id': 212, 'file_name': 'cju8b4ja9r2s808509d45ma86.jpg', 'width': 623, 'height': 529}, {'id': 213, 'file_name': 'cju8b542nr81x0871uxnkm9ih.jpg', 'width': 622, 'height': 531}, {'id': 214, 'file_name': 'cju8b5p40r2c60987ofa0mu03.jpg', 'width': 598, 'height': 531}, {'id': 215, 'file_name': 'cju8b6rp0r5st0850184f79xt.jpg', 'width': 626, 'height': 546}, {'id': 216, 'file_name': 'cju8b7aqtr4a00987coba14b7.jpg', 'width': 622, 'height': 530}, {'id': 217, 'file_name': 'cju8b8yair65w09878pyqtr96.jpg', 'width': 520, 'height': 529}, {'id': 218, 'file_name': 'cju8bafgqrf4x0818twisk3ea.jpg', 'width': 531, 'height': 530}, {'id': 219, 'file_name': 'cju8bbznkrf5g0871jncffynk.jpg', 'width': 619, 'height': 531}, {'id': 220, 'file_name': 'cju8bff9nrfi10850fmfzbf8v.jpg', 'width': 437, 'height': 529}, {'id': 221, 'file_name': 'cju8bgdmqrksy0801tozdmraa.jpg', 'width': 622, 'height': 529}, {'id': 222, 'file_name': 'cju8bh8surexp0987o5pzklk1.jpg', 'width': 577, 'height': 506}, {'id': 223, 'file_name': 'cju8bi8q7rlmn0871abc5ch8k.jpg', 'width': 622, 'height': 531}, {'id': 224, 'file_name': 'cju8bk8oirjhw0817hgkua2w8.jpg', 'width': 575, 'height': 509}, {'id': 225, 'file_name': 'cju8bljw9rqk20801kr54akrl.jpg', 'width': 621, 'height': 529}, {'id': 226, 'file_name': 'cju8bm24yrrdp081829mbo8ic.jpg', 'width': 626, 'height': 546}, {'id': 227, 'file_name': 'cju8bn7m2rmm70817hgxpb1uq.jpg', 'width': 626, 'height': 547}, {'id': 228, 'file_name': 'cju8bop5jrsid08716i24fqda.jpg', 'width': 622, 'height': 531}, {'id': 229, 'file_name': 'cju8bpctzrqkr0850zeldv9kt.jpg', 'width': 626, 'height': 546}, {'id': 230, 'file_name': 'cju8bqxxurs6i0850mu7mtef9.jpg', 'width': 600, 'height': 528}, {'id': 231, 'file_name': 'cju8brv16rx7f0818uf5n89pv.jpg', 'width': 622, 'height': 529}, {'id': 232, 'file_name': 'cju8bssulrrcy0987h1vq5060.jpg', 'width': 548, 'height': 531}, {'id': 233, 'file_name': 'cju8buos5rz9b08715lfr0f4f.jpg', 'width': 576, 'height': 530}, {'id': 234, 'file_name': 'cju8bw697rwg308177tg8huas.jpg', 'width': 581, 'height': 531}, {'id': 235, 'file_name': 'cju8bysfgrzkl081786jwac09.jpg', 'width': 619, 'height': 471}, {'id': 236, 'file_name': 'cju8bzzy2s66m08016z6mouqt.jpg', 'width': 622, 'height': 529}, {'id': 237, 'file_name': 'cju8c2rqzs5t80850d0zky5dy.jpg', 'width': 615, 'height': 490}, {'id': 238, 'file_name': 'cju8c3xs7sauj0801ieyzezr5.jpg', 'width': 626, 'height': 546}, {'id': 239, 'file_name': 'cju8c5223s8j80850b4kealt4.jpg', 'width': 619, 'height': 529}, {'id': 240, 'file_name': 'cju8c5mxls96t0850wvkvsity.jpg', 'width': 609, 'height': 531}, {'id': 241, 'file_name': 'cju8c5zcbsdfz0801o5t6jag1.jpg', 'width': 626, 'height': 546}, {'id': 242, 'file_name': 'cju8c6hnxsdvr0801wn0vrsa6.jpg', 'width': 617, 'height': 531}, {'id': 243, 'file_name': 'cju8c82iosagu0817l74s4m5g.jpg', 'width': 626, 'height': 547}, {'id': 244, 'file_name': 'cju8c9akjsdjj0850s67uzlxq.jpg', 'width': 570, 'height': 518}, {'id': 245, 'file_name': 'cju8ca4geseia0850i2ru11hw.jpg', 'width': 617, 'height': 529}, {'id': 246, 'file_name': 'cju8cattbsivm0818p446wgel.jpg', 'width': 621, 'height': 531}, {'id': 247, 'file_name': 'cju8cbsyssiqj0871gr4jedjp.jpg', 'width': 571, 'height': 531}, {'id': 248, 'file_name': 'cju8cdeazsm8h0801jxifmzur.jpg', 'width': 626, 'height': 547}, {'id': 249, 'file_name': 'cju8ceacrsqkr0755hdz145es.jpg', 'width': 566, 'height': 492}, {'id': 250, 'file_name': 'cju8chdlqsu620755azjty1tj.jpg', 'width': 622, 'height': 530}, {'id': 251, 'file_name': 'cju8chxndsre008015uisl4si.jpg', 'width': 605, 'height': 444}, {'id': 252, 'file_name': 'cju8cj10qsrau0871o2dr6ai1.jpg', 'width': 622, 'height': 530}, {'id': 253, 'file_name': 'cju8clorgsuwn08714toqb7v6.jpg', 'width': 570, 'height': 531}, {'id': 254, 'file_name': 'cju8cwy02t9eq08185qn12c02.jpg', 'width': 626, 'height': 547}, {'id': 255, 'file_name': 'cju8czvnztbf40871b4m7t78w.jpg', 'width': 626, 'height': 546}, {'id': 256, 'file_name': 'cju8d2q30tfhs0801n7lx77xl.jpg', 'width': 614, 'height': 546}, {'id': 257, 'file_name': 'cju8d4jgatgpj0871q2ophhkm.jpg', 'width': 622, 'height': 531}, {'id': 258, 'file_name': 'cju8dic9mtppa0987swn23wbc.jpg', 'width': 611, 'height': 531}, {'id': 259, 'file_name': 'cju8djdqztu6408506pzhlo18.jpg', 'width': 611, 'height': 530}, {'id': 260, 'file_name': 'cju8dk7eztzup08182yxko5zh.jpg', 'width': 623, 'height': 528}, {'id': 261, 'file_name': 'cju8dm2cau2km0818jsv9eeq2.jpg', 'width': 626, 'height': 547}, {'id': 262, 'file_name': 'cju8dn0c3u2v50801k8rvq02f.jpg', 'width': 1348, 'height': 1070}, {'id': 263, 'file_name': 'cju8dpa89u6l80818dj6lldh9.jpg', 'width': 623, 'height': 529}, {'id': 264, 'file_name': 'cju8dqkrqu83i0818ev74qpxq.jpg', 'width': 1348, 'height': 1070}, {'id': 265, 'file_name': 'cjyzjzssvd8pq0838f4nolj5l.jpg', 'width': 720, 'height': 576}, {'id': 266, 'file_name': 'cjyzk8qieoboa0848ogj51wwm.jpg', 'width': 720, 'height': 576}, {'id': 267, 'file_name': 'cjyzkmjy8evns070165gf9dmq.jpg', 'width': 720, 'height': 576}, {'id': 268, 'file_name': 'cjyzkpsbjdsjq07211dfi4sru.jpg', 'width': 720, 'height': 576}, {'id': 269, 'file_name': 'cjyzl833ndne80838pzuq6ila.jpg', 'width': 720, 'height': 576}, {'id': 270, 'file_name': 'cjyzlw7f9faqr070129au64sq.jpg', 'width': 720, 'height': 576}, {'id': 271, 'file_name': 'cjyztzaqtrv430848l8xgcerw.jpg', 'width': 720, 'height': 576}, {'id': 272, 'file_name': 'cjyzu3reghjya0794w7pwoi50.jpg', 'width': 720, 'height': 576}, {'id': 273, 'file_name': 'cjyzu9th0qt4r0a46pyl4zik0.jpg', 'width': 720, 'height': 576}, {'id': 274, 'file_name': 'cjyzufihqquiw0a46jatrbwln.jpg', 'width': 720, 'height': 576}, {'id': 275, 'file_name': 'cjyzuio1qgh040763k56deohv.jpg', 'width': 720, 'height': 576}, {'id': 276, 'file_name': 'cjyzul1qggwwj07216mhiv5sy.jpg', 'width': 1920, 'height': 1072}, {'id': 277, 'file_name': 'cjyzurzvohqnr0794es1itzek.jpg', 'width': 720, 'height': 576}, {'id': 278, 'file_name': 'cjz14qsk2wci60794un9ozwmw.jpg', 'width': 720, 'height': 576}, {'id': 279, 'file_name': 'ck2395w2mb4vu07480otsu6tw.jpg', 'width': 720, 'height': 576}, {'id': 280, 'file_name': 'ck2bxiswtxuw80838qkisqjwz.jpg', 'width': 621, 'height': 520}, {'id': 281, 'file_name': 'ck2bxknhjvs1x0794iogrq49k.jpg', 'width': 603, 'height': 528}, {'id': 282, 'file_name': 'ck2bxlujamu330725szlc2jdu.jpg', 'width': 720, 'height': 576}, {'id': 283, 'file_name': 'ck2bxpfgxu2mk0748gsh7xelu.jpg', 'width': 621, 'height': 531}, {'id': 284, 'file_name': 'ck2bxqz3evvg20794iiyv5v2m.jpg', 'width': 720, 'height': 576}, {'id': 285, 'file_name': 'ck2bxskgxxzfv08386xkqtqdy.jpg', 'width': 585, 'height': 530}, {'id': 286, 'file_name': 'ck2bxw18mmz1k0725litqq2mc.jpg', 'width': 600, 'height': 528}, {'id': 287, 'file_name': 'ck2da7fwcjfis07218r1rvm95.jpg', 'width': 720, 'height': 576}, {'id': 288, 'file_name': 'cju83k8fyjsxr0817d6nxs6r4.jpg', 'width': 621, 'height': 528}, {'id': 289, 'file_name': 'cju843yjskhq30818qre4rwm2.jpg', 'width': 547, 'height': 437}, {'id': 290, 'file_name': 'cju858eswlepn0871pzvdrhj1.jpg', 'width': 570, 'height': 530}, {'id': 291, 'file_name': 'cju85plp7lmkw0850rx42jdpf.jpg', 'width': 596, 'height': 530}, {'id': 292, 'file_name': 'cju87zv8lni0o0850hbbecbq6.jpg', 'width': 622, 'height': 528}, {'id': 293, 'file_name': 'cju88l66no10s0850rsda7ej1.jpg', 'width': 571, 'height': 530}, {'id': 294, 'file_name': 'cju892fesoq2g0801n0e0jyia.jpg', 'width': 589, 'height': 546}, {'id': 295, 'file_name': 'cju8amfdtqi4x09871tygrgqe.jpg', 'width': 622, 'height': 530}, {'id': 296, 'file_name': 'cju8b2rmgr52s0801p54eyflx.jpg', 'width': 587, 'height': 530}, {'id': 297, 'file_name': 'cju8bj2ssrmlm0871gc2ug2rs.jpg', 'width': 469, 'height': 449}, {'id': 298, 'file_name': 'cju8c1a0ws7o208181c6lbsom.jpg', 'width': 625, 'height': 546}, {'id': 299, 'file_name': 'cju8cgi2kspp308011nxdtjp6.jpg', 'width': 619, 'height': 530}, {'id': 300, 'file_name': 'cju8doa16u5gh0818w1ywda3q.jpg', 'width': 622, 'height': 529}], 'annotations': [{'id': 1, 'image_id': 1, 'category_id': 1, 'bbox': [79, 128, 262, 226], 'area': 59212, 'iscrowd': 0}, {'id': 1, 'image_id': 2, 'category_id': 1, 'bbox': [236, 198, 184, 227], 'area': 41768, 'iscrowd': 0}, {'id': 1, 'image_id': 3, 'category_id': 1, 'bbox': [158, 157, 197, 195], 'area': 38415, 'iscrowd': 0}, {'id': 1, 'image_id': 4, 'category_id': 1, 'bbox': [247, 221, 219, 223], 'area': 48837, 'iscrowd': 0}, {'id': 1, 'image_id': 5, 'category_id': 1, 'bbox': [24, 108, 400, 422], 'area': 168800, 'iscrowd': 0}, {'id': 1, 'image_id': 6, 'category_id': 1, 'bbox': [168, 229, 300, 291], 'area': 87300, 'iscrowd': 0}, {'id': 1, 'image_id': 7, 'category_id': 1, 'bbox': [141, 48, 291, 300], 'area': 87300, 'iscrowd': 0}, {'id': 1, 'image_id': 8, 'category_id': 1, 'bbox': [198, 177, 260, 223], 'area': 57980, 'iscrowd': 0}, {'id': 1, 'image_id': 9, 'category_id': 1, 'bbox': [46, 56, 409, 378], 'area': 154602, 'iscrowd': 0}, {'id': 1, 'image_id': 10, 'category_id': 1, 'bbox': [354, 245, 104, 150], 'area': 15600, 'iscrowd': 0}, {'id': 1, 'image_id': 11, 'category_id': 1, 'bbox': [119, 111, 319, 217], 'area': 69223, 'iscrowd': 0}, {'id': 1, 'image_id': 12, 'category_id': 1, 'bbox': [338, 47, 284, 483], 'area': 137172, 'iscrowd': 0}, {'id': 1, 'image_id': 13, 'category_id': 1, 'bbox': [227, 15, 254, 316], 'area': 80264, 'iscrowd': 0}, {'id': 1, 'image_id': 14, 'category_id': 1, 'bbox': [160, 88, 203, 178], 'area': 36134, 'iscrowd': 0}, {'id': 1, 'image_id': 15, 'category_id': 1, 'bbox': [157, 174, 236, 217], 'area': 51212, 'iscrowd': 0}, {'id': 1, 'image_id': 16, 'category_id': 1, 'bbox': [27, 191, 377, 340], 'area': 128180, 'iscrowd': 0}, {'id': 1, 'image_id': 17, 'category_id': 1, 'bbox': [218, 209, 374, 297], 'area': 111078, 'iscrowd': 0}, {'id': 1, 'image_id': 18, 'category_id': 1, 'bbox': [99, 83, 253, 314], 'area': 79442, 'iscrowd': 0}, {'id': 1, 'image_id': 19, 'category_id': 1, 'bbox': [278, 182, 212, 279], 'area': 59148, 'iscrowd': 0}, {'id': 1, 'image_id': 20, 'category_id': 1, 'bbox': [151, 26, 412, 505], 'area': 208060, 'iscrowd': 0}, {'id': 1, 'image_id': 21, 'category_id': 1, 'bbox': [120, 0, 416, 438], 'area': 182208, 'iscrowd': 0}, {'id': 1, 'image_id': 22, 'category_id': 1, 'bbox': [321, 311, 79, 107], 'area': 8453, 'iscrowd': 0}, {'id': 1, 'image_id': 23, 'category_id': 1, 'bbox': [183, 110, 218, 301], 'area': 65618, 'iscrowd': 0}, {'id': 1, 'image_id': 24, 'category_id': 1, 'bbox': [183, 18, 430, 287], 'area': 123410, 'iscrowd': 0}, {'id': 1, 'image_id': 25, 'category_id': 1, 'bbox': [267, 85, 118, 115], 'area': 13570, 'iscrowd': 0}, {'id': 1, 'image_id': 26, 'category_id': 1, 'bbox': [270, 24, 342, 374], 'area': 127908, 'iscrowd': 0}, {'id': 1, 'image_id': 27, 'category_id': 1, 'bbox': [219, 78, 375, 389], 'area': 145875, 'iscrowd': 0}, {'id': 1, 'image_id': 28, 'category_id': 1, 'bbox': [145, 122, 380, 401], 'area': 152380, 'iscrowd': 0}, {'id': 1, 'image_id': 29, 'category_id': 1, 'bbox': [203, 257, 266, 271], 'area': 72086, 'iscrowd': 0}, {'id': 2, 'image_id': 29, 'category_id': 1, 'bbox': [231, 506, 66, 22], 'area': 1452, 'iscrowd': 0}, {'id': 1, 'image_id': 30, 'category_id': 1, 'bbox': [344, 203, 196, 197], 'area': 38612, 'iscrowd': 0}, {'id': 1, 'image_id': 31, 'category_id': 1, 'bbox': [97, 19, 466, 510], 'area': 237660, 'iscrowd': 0}, {'id': 1, 'image_id': 32, 'category_id': 1, 'bbox': [292, 0, 329, 307], 'area': 101003, 'iscrowd': 0}, {'id': 1, 'image_id': 33, 'category_id': 1, 'bbox': [0, 0, 553, 530], 'area': 293090, 'iscrowd': 0}, {'id': 1, 'image_id': 34, 'category_id': 1, 'bbox': [124, 177, 205, 179], 'area': 36695, 'iscrowd': 0}, {'id': 1, 'image_id': 35, 'category_id': 1, 'bbox': [357, 95, 242, 374], 'area': 90508, 'iscrowd': 0}, {'id': 1, 'image_id': 36, 'category_id': 1, 'bbox': [80, 34, 72, 102], 'area': 7344, 'iscrowd': 0}, {'id': 2, 'image_id': 36, 'category_id': 1, 'bbox': [341, 147, 58, 61], 'area': 3538, 'iscrowd': 0}, {'id': 3, 'image_id': 36, 'category_id': 1, 'bbox': [121, 154, 188, 154], 'area': 28952, 'iscrowd': 0}, {'id': 1, 'image_id': 37, 'category_id': 1, 'bbox': [340, 171, 283, 284], 'area': 80372, 'iscrowd': 0}, {'id': 1, 'image_id': 38, 'category_id': 1, 'bbox': [362, 276, 183, 190], 'area': 34770, 'iscrowd': 0}, {'id': 1, 'image_id': 39, 'category_id': 1, 'bbox': [285, 339, 154, 157], 'area': 24178, 'iscrowd': 0}, {'id': 1, 'image_id': 40, 'category_id': 1, 'bbox': [4, 29, 576, 352], 'area': 202752, 'iscrowd': 0}, {'id': 1, 'image_id': 41, 'category_id': 1, 'bbox': [151, 250, 187, 225], 'area': 42075, 'iscrowd': 0}, {'id': 1, 'image_id': 42, 'category_id': 1, 'bbox': [402, 181, 220, 347], 'area': 76340, 'iscrowd': 0}, {'id': 1, 'image_id': 43, 'category_id': 1, 'bbox': [209, 40, 337, 330], 'area': 111210, 'iscrowd': 0}, {'id': 1, 'image_id': 44, 'category_id': 1, 'bbox': [344, 150, 102, 109], 'area': 11118, 'iscrowd': 0}, {'id': 1, 'image_id': 45, 'category_id': 1, 'bbox': [17, 68, 423, 394], 'area': 166662, 'iscrowd': 0}, {'id': 1, 'image_id': 46, 'category_id': 1, 'bbox': [385, 0, 215, 422], 'area': 90730, 'iscrowd': 0}, {'id': 1, 'image_id': 47, 'category_id': 1, 'bbox': [151, 36, 245, 281], 'area': 68845, 'iscrowd': 0}, {'id': 1, 'image_id': 48, 'category_id': 1, 'bbox': [270, 204, 108, 119], 'area': 12852, 'iscrowd': 0}, {'id': 1, 'image_id': 49, 'category_id': 1, 'bbox': [413, 129, 145, 209], 'area': 30305, 'iscrowd': 0}, {'id': 1, 'image_id': 50, 'category_id': 1, 'bbox': [1, 0, 615, 302], 'area': 185730, 'iscrowd': 0}, {'id': 1, 'image_id': 51, 'category_id': 1, 'bbox': [218, 139, 305, 358], 'area': 109190, 'iscrowd': 0}, {'id': 2, 'image_id': 51, 'category_id': 1, 'bbox': [694, 698, 285, 314], 'area': 89490, 'iscrowd': 0}, {'id': 1, 'image_id': 52, 'category_id': 1, 'bbox': [150, 0, 419, 509], 'area': 213271, 'iscrowd': 0}, {'id': 1, 'image_id': 53, 'category_id': 1, 'bbox': [0, 0, 567, 530], 'area': 300510, 'iscrowd': 0}, {'id': 1, 'image_id': 54, 'category_id': 1, 'bbox': [0, 231, 226, 141], 'area': 31866, 'iscrowd': 0}, {'id': 1, 'image_id': 55, 'category_id': 1, 'bbox': [287, 342, 121, 102], 'area': 12342, 'iscrowd': 0}, {'id': 1, 'image_id': 56, 'category_id': 1, 'bbox': [192, 120, 377, 319], 'area': 120263, 'iscrowd': 0}, {'id': 1, 'image_id': 57, 'category_id': 1, 'bbox': [190, 1, 341, 516], 'area': 175956, 'iscrowd': 0}, {'id': 1, 'image_id': 58, 'category_id': 1, 'bbox': [0, 0, 603, 545], 'area': 328635, 'iscrowd': 0}, {'id': 1, 'image_id': 59, 'category_id': 1, 'bbox': [93, 49, 190, 172], 'area': 32680, 'iscrowd': 0}, {'id': 1, 'image_id': 60, 'category_id': 1, 'bbox': [135, 67, 311, 256], 'area': 79616, 'iscrowd': 0}, {'id': 1, 'image_id': 61, 'category_id': 1, 'bbox': [189, 113, 348, 416], 'area': 144768, 'iscrowd': 0}, {'id': 1, 'image_id': 62, 'category_id': 1, 'bbox': [428, 46, 94, 96], 'area': 9024, 'iscrowd': 0}, {'id': 2, 'image_id': 62, 'category_id': 1, 'bbox': [174, 362, 96, 142], 'area': 13632, 'iscrowd': 0}, {'id': 1, 'image_id': 63, 'category_id': 1, 'bbox': [183, 147, 188, 213], 'area': 40044, 'iscrowd': 0}, {'id': 1, 'image_id': 64, 'category_id': 1, 'bbox': [5, 201, 334, 329], 'area': 109886, 'iscrowd': 0}, {'id': 1, 'image_id': 65, 'category_id': 1, 'bbox': [133, 60, 288, 468], 'area': 134784, 'iscrowd': 0}, {'id': 1, 'image_id': 66, 'category_id': 1, 'bbox': [267, 146, 144, 189], 'area': 27216, 'iscrowd': 0}, {'id': 1, 'image_id': 67, 'category_id': 1, 'bbox': [45, 0, 473, 324], 'area': 153252, 'iscrowd': 0}, {'id': 1, 'image_id': 68, 'category_id': 1, 'bbox': [391, 180, 136, 156], 'area': 21216, 'iscrowd': 0}, {'id': 1, 'image_id': 69, 'category_id': 1, 'bbox': [265, 190, 147, 155], 'area': 22785, 'iscrowd': 0}, {'id': 1, 'image_id': 70, 'category_id': 1, 'bbox': [312, 127, 233, 275], 'area': 64075, 'iscrowd': 0}, {'id': 1, 'image_id': 71, 'category_id': 1, 'bbox': [203, 78, 711, 719], 'area': 511209, 'iscrowd': 0}, {'id': 1, 'image_id': 72, 'category_id': 1, 'bbox': [305, 176, 240, 276], 'area': 66240, 'iscrowd': 0}, {'id': 1, 'image_id': 73, 'category_id': 1, 'bbox': [4, 0, 275, 369], 'area': 101475, 'iscrowd': 0}, {'id': 1, 'image_id': 74, 'category_id': 1, 'bbox': [252, 119, 285, 262], 'area': 74670, 'iscrowd': 0}, {'id': 1, 'image_id': 75, 'category_id': 1, 'bbox': [96, 177, 384, 351], 'area': 134784, 'iscrowd': 0}, {'id': 1, 'image_id': 76, 'category_id': 1, 'bbox': [252, 56, 195, 248], 'area': 48360, 'iscrowd': 0}, {'id': 1, 'image_id': 77, 'category_id': 1, 'bbox': [164, 66, 230, 263], 'area': 60490, 'iscrowd': 0}, {'id': 1, 'image_id': 78, 'category_id': 1, 'bbox': [22, 79, 365, 468], 'area': 170820, 'iscrowd': 0}, {'id': 1, 'image_id': 79, 'category_id': 1, 'bbox': [103, 267, 176, 176], 'area': 30976, 'iscrowd': 0}, {'id': 1, 'image_id': 80, 'category_id': 1, 'bbox': [291, 86, 266, 252], 'area': 67032, 'iscrowd': 0}, {'id': 1, 'image_id': 81, 'category_id': 1, 'bbox': [365, 84, 192, 261], 'area': 50112, 'iscrowd': 0}, {'id': 1, 'image_id': 82, 'category_id': 1, 'bbox': [103, 351, 249, 163], 'area': 40587, 'iscrowd': 0}, {'id': 1, 'image_id': 83, 'category_id': 1, 'bbox': [344, 21, 219, 194], 'area': 42486, 'iscrowd': 0}, {'id': 1, 'image_id': 84, 'category_id': 1, 'bbox': [161, 105, 142, 141], 'area': 20022, 'iscrowd': 0}, {'id': 1, 'image_id': 85, 'category_id': 1, 'bbox': [156, 117, 273, 233], 'area': 63609, 'iscrowd': 0}, {'id': 1, 'image_id': 86, 'category_id': 1, 'bbox': [167, 55, 343, 323], 'area': 110789, 'iscrowd': 0}, {'id': 1, 'image_id': 87, 'category_id': 1, 'bbox': [395, 238, 127, 157], 'area': 19939, 'iscrowd': 0}, {'id': 1, 'image_id': 88, 'category_id': 1, 'bbox': [11, 230, 428, 299], 'area': 127972, 'iscrowd': 0}, {'id': 1, 'image_id': 89, 'category_id': 1, 'bbox': [199, 42, 190, 178], 'area': 33820, 'iscrowd': 0}, {'id': 1, 'image_id': 90, 'category_id': 1, 'bbox': [149, 148, 248, 236], 'area': 58528, 'iscrowd': 0}, {'id': 1, 'image_id': 91, 'category_id': 1, 'bbox': [183, 158, 255, 213], 'area': 54315, 'iscrowd': 0}, {'id': 1, 'image_id': 92, 'category_id': 1, 'bbox': [356, 204, 139, 146], 'area': 20294, 'iscrowd': 0}, {'id': 1, 'image_id': 93, 'category_id': 1, 'bbox': [277, 114, 211, 207], 'area': 43677, 'iscrowd': 0}, {'id': 1, 'image_id': 94, 'category_id': 1, 'bbox': [358, 253, 114, 120], 'area': 13680, 'iscrowd': 0}, {'id': 1, 'image_id': 95, 'category_id': 1, 'bbox': [41, 36, 84, 110], 'area': 9240, 'iscrowd': 0}, {'id': 2, 'image_id': 95, 'category_id': 1, 'bbox': [116, 124, 69, 97], 'area': 6693, 'iscrowd': 0}, {'id': 3, 'image_id': 95, 'category_id': 1, 'bbox': [277, 138, 191, 238], 'area': 45458, 'iscrowd': 0}, {'id': 1, 'image_id': 96, 'category_id': 1, 'bbox': [190, 117, 130, 104], 'area': 13520, 'iscrowd': 0}, {'id': 1, 'image_id': 97, 'category_id': 1, 'bbox': [0, 0, 541, 527], 'area': 285107, 'iscrowd': 0}, {'id': 1, 'image_id': 98, 'category_id': 1, 'bbox': [51, 103, 242, 331], 'area': 80102, 'iscrowd': 0}, {'id': 1, 'image_id': 99, 'category_id': 1, 'bbox': [220, 191, 88, 100], 'area': 8800, 'iscrowd': 0}, {'id': 1, 'image_id': 100, 'category_id': 1, 'bbox': [193, 94, 248, 236], 'area': 58528, 'iscrowd': 0}, {'id': 1, 'image_id': 101, 'category_id': 1, 'bbox': [152, 168, 256, 362], 'area': 92672, 'iscrowd': 0}, {'id': 1, 'image_id': 102, 'category_id': 1, 'bbox': [90, 0, 338, 330], 'area': 111540, 'iscrowd': 0}, {'id': 1, 'image_id': 103, 'category_id': 1, 'bbox': [142, 188, 257, 343], 'area': 88151, 'iscrowd': 0}, {'id': 1, 'image_id': 104, 'category_id': 1, 'bbox': [234, 15, 353, 515], 'area': 181795, 'iscrowd': 0}, {'id': 1, 'image_id': 105, 'category_id': 1, 'bbox': [278, 309, 160, 131], 'area': 20960, 'iscrowd': 0}, {'id': 1, 'image_id': 106, 'category_id': 1, 'bbox': [200, 387, 178, 86], 'area': 15308, 'iscrowd': 0}, {'id': 1, 'image_id': 107, 'category_id': 1, 'bbox': [307, 199, 164, 128], 'area': 20992, 'iscrowd': 0}, {'id': 1, 'image_id': 108, 'category_id': 1, 'bbox': [233, 185, 392, 362], 'area': 141904, 'iscrowd': 0}, {'id': 1, 'image_id': 109, 'category_id': 1, 'bbox': [303, 232, 226, 196], 'area': 44296, 'iscrowd': 0}, {'id': 1, 'image_id': 110, 'category_id': 1, 'bbox': [0, 78, 438, 392], 'area': 171696, 'iscrowd': 0}, {'id': 1, 'image_id': 111, 'category_id': 1, 'bbox': [233, 198, 195, 193], 'area': 37635, 'iscrowd': 0}, {'id': 1, 'image_id': 112, 'category_id': 1, 'bbox': [303, 70, 201, 218], 'area': 43818, 'iscrowd': 0}, {'id': 1, 'image_id': 113, 'category_id': 1, 'bbox': [160, 118, 308, 358], 'area': 110264, 'iscrowd': 0}, {'id': 1, 'image_id': 114, 'category_id': 1, 'bbox': [257, 181, 161, 196], 'area': 31556, 'iscrowd': 0}, {'id': 1, 'image_id': 115, 'category_id': 1, 'bbox': [370, 246, 179, 192], 'area': 34368, 'iscrowd': 0}, {'id': 1, 'image_id': 116, 'category_id': 1, 'bbox': [112, 193, 271, 318], 'area': 86178, 'iscrowd': 0}, {'id': 1, 'image_id': 117, 'category_id': 1, 'bbox': [177, 184, 282, 282], 'area': 79524, 'iscrowd': 0}, {'id': 1, 'image_id': 118, 'category_id': 1, 'bbox': [150, 2, 392, 498], 'area': 195216, 'iscrowd': 0}, {'id': 1, 'image_id': 119, 'category_id': 1, 'bbox': [56, 108, 426, 358], 'area': 152508, 'iscrowd': 0}, {'id': 1, 'image_id': 120, 'category_id': 1, 'bbox': [319, 1, 173, 255], 'area': 44115, 'iscrowd': 0}, {'id': 1, 'image_id': 121, 'category_id': 1, 'bbox': [154, 0, 398, 417], 'area': 165966, 'iscrowd': 0}, {'id': 1, 'image_id': 122, 'category_id': 1, 'bbox': [75, 187, 201, 205], 'area': 41205, 'iscrowd': 0}, {'id': 1, 'image_id': 123, 'category_id': 1, 'bbox': [142, 220, 471, 327], 'area': 154017, 'iscrowd': 0}, {'id': 1, 'image_id': 124, 'category_id': 1, 'bbox': [44, 74, 440, 456], 'area': 200640, 'iscrowd': 0}, {'id': 1, 'image_id': 125, 'category_id': 1, 'bbox': [267, 302, 177, 195], 'area': 34515, 'iscrowd': 0}, {'id': 1, 'image_id': 126, 'category_id': 1, 'bbox': [240, 72, 261, 257], 'area': 67077, 'iscrowd': 0}, {'id': 1, 'image_id': 127, 'category_id': 1, 'bbox': [350, 173, 151, 179], 'area': 27029, 'iscrowd': 0}, {'id': 1, 'image_id': 128, 'category_id': 1, 'bbox': [359, 163, 185, 283], 'area': 52355, 'iscrowd': 0}, {'id': 1, 'image_id': 129, 'category_id': 1, 'bbox': [95, 177, 816, 567], 'area': 462672, 'iscrowd': 0}, {'id': 1, 'image_id': 130, 'category_id': 1, 'bbox': [86, 0, 410, 528], 'area': 216480, 'iscrowd': 0}, {'id': 1, 'image_id': 131, 'category_id': 1, 'bbox': [111, 212, 376, 318], 'area': 119568, 'iscrowd': 0}, {'id': 1, 'image_id': 132, 'category_id': 1, 'bbox': [163, 131, 233, 268], 'area': 62444, 'iscrowd': 0}, {'id': 1, 'image_id': 133, 'category_id': 1, 'bbox': [161, 221, 143, 188], 'area': 26884, 'iscrowd': 0}, {'id': 1, 'image_id': 134, 'category_id': 1, 'bbox': [168, 162, 180, 197], 'area': 35460, 'iscrowd': 0}, {'id': 1, 'image_id': 135, 'category_id': 1, 'bbox': [320, 306, 78, 75], 'area': 5850, 'iscrowd': 0}, {'id': 1, 'image_id': 136, 'category_id': 1, 'bbox': [230, 63, 99, 115], 'area': 11385, 'iscrowd': 0}, {'id': 1, 'image_id': 137, 'category_id': 1, 'bbox': [174, 241, 133, 97], 'area': 12901, 'iscrowd': 0}, {'id': 1, 'image_id': 138, 'category_id': 1, 'bbox': [219, 131, 388, 397], 'area': 154036, 'iscrowd': 0}, {'id': 1, 'image_id': 139, 'category_id': 1, 'bbox': [218, 0, 404, 407], 'area': 164428, 'iscrowd': 0}, {'id': 1, 'image_id': 140, 'category_id': 1, 'bbox': [330, 136, 185, 170], 'area': 31450, 'iscrowd': 0}, {'id': 1, 'image_id': 141, 'category_id': 1, 'bbox': [5, 218, 746, 793], 'area': 591578, 'iscrowd': 0}, {'id': 1, 'image_id': 142, 'category_id': 1, 'bbox': [0, 45, 378, 451], 'area': 170478, 'iscrowd': 0}, {'id': 1, 'image_id': 143, 'category_id': 1, 'bbox': [132, 15, 243, 337], 'area': 81891, 'iscrowd': 0}, {'id': 1, 'image_id': 144, 'category_id': 1, 'bbox': [241, 288, 161, 169], 'area': 27209, 'iscrowd': 0}, {'id': 1, 'image_id': 145, 'category_id': 1, 'bbox': [271, 0, 214, 227], 'area': 48578, 'iscrowd': 0}, {'id': 1, 'image_id': 146, 'category_id': 1, 'bbox': [176, 129, 394, 400], 'area': 157600, 'iscrowd': 0}, {'id': 1, 'image_id': 147, 'category_id': 1, 'bbox': [205, 242, 270, 289], 'area': 78030, 'iscrowd': 0}, {'id': 1, 'image_id': 148, 'category_id': 1, 'bbox': [487, 82, 49, 73], 'area': 3577, 'iscrowd': 0}, {'id': 2, 'image_id': 148, 'category_id': 1, 'bbox': [109, 115, 160, 174], 'area': 27840, 'iscrowd': 0}, {'id': 1, 'image_id': 149, 'category_id': 1, 'bbox': [0, 0, 560, 448], 'area': 250880, 'iscrowd': 0}, {'id': 1, 'image_id': 150, 'category_id': 1, 'bbox': [224, 175, 126, 161], 'area': 20286, 'iscrowd': 0}, {'id': 1, 'image_id': 151, 'category_id': 1, 'bbox': [403, 227, 178, 256], 'area': 45568, 'iscrowd': 0}, {'id': 1, 'image_id': 152, 'category_id': 1, 'bbox': [205, 63, 166, 191], 'area': 31706, 'iscrowd': 0}, {'id': 1, 'image_id': 153, 'category_id': 1, 'bbox': [129, 51, 394, 407], 'area': 160358, 'iscrowd': 0}, {'id': 1, 'image_id': 154, 'category_id': 1, 'bbox': [204, 52, 304, 332], 'area': 100928, 'iscrowd': 0}, {'id': 1, 'image_id': 155, 'category_id': 1, 'bbox': [94, 56, 453, 355], 'area': 160815, 'iscrowd': 0}, {'id': 1, 'image_id': 156, 'category_id': 1, 'bbox': [0, 0, 555, 529], 'area': 293595, 'iscrowd': 0}, {'id': 1, 'image_id': 157, 'category_id': 1, 'bbox': [43, 184, 308, 346], 'area': 106568, 'iscrowd': 0}, {'id': 1, 'image_id': 158, 'category_id': 1, 'bbox': [365, 201, 236, 225], 'area': 53100, 'iscrowd': 0}, {'id': 1, 'image_id': 159, 'category_id': 1, 'bbox': [304, 106, 276, 320], 'area': 88320, 'iscrowd': 0}, {'id': 1, 'image_id': 160, 'category_id': 1, 'bbox': [447, 173, 63, 62], 'area': 3906, 'iscrowd': 0}, {'id': 2, 'image_id': 160, 'category_id': 1, 'bbox': [347, 190, 64, 70], 'area': 4480, 'iscrowd': 0}, {'id': 1, 'image_id': 161, 'category_id': 1, 'bbox': [180, 105, 190, 217], 'area': 41230, 'iscrowd': 0}, {'id': 1, 'image_id': 162, 'category_id': 1, 'bbox': [220, 146, 215, 279], 'area': 59985, 'iscrowd': 0}, {'id': 1, 'image_id': 163, 'category_id': 1, 'bbox': [287, 116, 95, 170], 'area': 16150, 'iscrowd': 0}, {'id': 1, 'image_id': 164, 'category_id': 1, 'bbox': [321, 98, 184, 302], 'area': 55568, 'iscrowd': 0}, {'id': 1, 'image_id': 165, 'category_id': 1, 'bbox': [241, 74, 292, 327], 'area': 95484, 'iscrowd': 0}, {'id': 1, 'image_id': 166, 'category_id': 1, 'bbox': [304, 205, 141, 180], 'area': 25380, 'iscrowd': 0}, {'id': 1, 'image_id': 167, 'category_id': 1, 'bbox': [213, 0, 332, 362], 'area': 120184, 'iscrowd': 0}, {'id': 1, 'image_id': 168, 'category_id': 1, 'bbox': [311, 73, 97, 94], 'area': 9118, 'iscrowd': 0}, {'id': 1, 'image_id': 169, 'category_id': 1, 'bbox': [361, 171, 189, 196], 'area': 37044, 'iscrowd': 0}, {'id': 1, 'image_id': 170, 'category_id': 1, 'bbox': [137, 159, 306, 318], 'area': 97308, 'iscrowd': 0}, {'id': 1, 'image_id': 171, 'category_id': 1, 'bbox': [144, 0, 358, 276], 'area': 98808, 'iscrowd': 0}, {'id': 1, 'image_id': 172, 'category_id': 1, 'bbox': [358, 92, 247, 306], 'area': 75582, 'iscrowd': 0}, {'id': 1, 'image_id': 173, 'category_id': 1, 'bbox': [236, 244, 100, 118], 'area': 11800, 'iscrowd': 0}, {'id': 1, 'image_id': 174, 'category_id': 1, 'bbox': [402, 247, 131, 128], 'area': 16768, 'iscrowd': 0}, {'id': 1, 'image_id': 175, 'category_id': 1, 'bbox': [168, 0, 218, 121], 'area': 26378, 'iscrowd': 0}, {'id': 2, 'image_id': 175, 'category_id': 1, 'bbox': [375, 100, 80, 182], 'area': 14560, 'iscrowd': 0}, {'id': 3, 'image_id': 175, 'category_id': 1, 'bbox': [242, 316, 88, 68], 'area': 5984, 'iscrowd': 0}, {'id': 1, 'image_id': 176, 'category_id': 1, 'bbox': [133, 71, 347, 374], 'area': 129778, 'iscrowd': 0}, {'id': 1, 'image_id': 177, 'category_id': 1, 'bbox': [194, 271, 133, 153], 'area': 20349, 'iscrowd': 0}, {'id': 1, 'image_id': 178, 'category_id': 1, 'bbox': [206, 205, 115, 163], 'area': 18745, 'iscrowd': 0}, {'id': 1, 'image_id': 179, 'category_id': 1, 'bbox': [318, 265, 96, 113], 'area': 10848, 'iscrowd': 0}, {'id': 1, 'image_id': 180, 'category_id': 1, 'bbox': [177, 300, 131, 101], 'area': 13231, 'iscrowd': 0}, {'id': 1, 'image_id': 181, 'category_id': 1, 'bbox': [69, 123, 445, 406], 'area': 180670, 'iscrowd': 0}, {'id': 1, 'image_id': 182, 'category_id': 1, 'bbox': [203, 143, 230, 205], 'area': 47150, 'iscrowd': 0}, {'id': 1, 'image_id': 183, 'category_id': 1, 'bbox': [265, 151, 221, 254], 'area': 56134, 'iscrowd': 0}, {'id': 1, 'image_id': 184, 'category_id': 1, 'bbox': [406, 197, 105, 104], 'area': 10920, 'iscrowd': 0}, {'id': 1, 'image_id': 185, 'category_id': 1, 'bbox': [155, 87, 260, 286], 'area': 74360, 'iscrowd': 0}, {'id': 1, 'image_id': 186, 'category_id': 1, 'bbox': [0, 101, 347, 433], 'area': 150251, 'iscrowd': 0}, {'id': 1, 'image_id': 187, 'category_id': 1, 'bbox': [365, 19, 114, 69], 'area': 7866, 'iscrowd': 0}, {'id': 1, 'image_id': 188, 'category_id': 1, 'bbox': [937, 97, 411, 783], 'area': 321813, 'iscrowd': 0}, {'id': 1, 'image_id': 189, 'category_id': 1, 'bbox': [190, 260, 120, 148], 'area': 17760, 'iscrowd': 0}, {'id': 1, 'image_id': 190, 'category_id': 1, 'bbox': [248, 71, 180, 157], 'area': 28260, 'iscrowd': 0}, {'id': 1, 'image_id': 191, 'category_id': 1, 'bbox': [186, 153, 242, 249], 'area': 60258, 'iscrowd': 0}, {'id': 1, 'image_id': 192, 'category_id': 1, 'bbox': [124, 8, 417, 460], 'area': 191820, 'iscrowd': 0}, {'id': 1, 'image_id': 193, 'category_id': 1, 'bbox': [201, 376, 268, 171], 'area': 45828, 'iscrowd': 0}, {'id': 1, 'image_id': 194, 'category_id': 1, 'bbox': [266, 163, 184, 185], 'area': 34040, 'iscrowd': 0}, {'id': 1, 'image_id': 195, 'category_id': 1, 'bbox': [110, 329, 160, 185], 'area': 29600, 'iscrowd': 0}, {'id': 1, 'image_id': 196, 'category_id': 1, 'bbox': [291, 216, 313, 296], 'area': 92648, 'iscrowd': 0}, {'id': 1, 'image_id': 197, 'category_id': 1, 'bbox': [199, 46, 366, 356], 'area': 130296, 'iscrowd': 0}, {'id': 1, 'image_id': 198, 'category_id': 1, 'bbox': [353, 130, 153, 234], 'area': 35802, 'iscrowd': 0}, {'id': 1, 'image_id': 199, 'category_id': 1, 'bbox': [264, 225, 185, 289], 'area': 53465, 'iscrowd': 0}, {'id': 1, 'image_id': 200, 'category_id': 1, 'bbox': [235, 82, 325, 394], 'area': 128050, 'iscrowd': 0}, {'id': 1, 'image_id': 201, 'category_id': 1, 'bbox': [169, 87, 221, 366], 'area': 80886, 'iscrowd': 0}, {'id': 1, 'image_id': 202, 'category_id': 1, 'bbox': [284, 437, 346, 406], 'area': 140476, 'iscrowd': 0}, {'id': 1, 'image_id': 203, 'category_id': 1, 'bbox': [389, 301, 119, 129], 'area': 15351, 'iscrowd': 0}, {'id': 1, 'image_id': 204, 'category_id': 1, 'bbox': [332, 3, 118, 104], 'area': 12272, 'iscrowd': 0}, {'id': 1, 'image_id': 205, 'category_id': 1, 'bbox': [258, 109, 317, 384], 'area': 121728, 'iscrowd': 0}, {'id': 1, 'image_id': 206, 'category_id': 1, 'bbox': [380, 163, 130, 118], 'area': 15340, 'iscrowd': 0}, {'id': 1, 'image_id': 207, 'category_id': 1, 'bbox': [298, 218, 125, 148], 'area': 18500, 'iscrowd': 0}, {'id': 1, 'image_id': 208, 'category_id': 1, 'bbox': [236, 132, 226, 308], 'area': 69608, 'iscrowd': 0}, {'id': 1, 'image_id': 209, 'category_id': 1, 'bbox': [390, 285, 147, 179], 'area': 26313, 'iscrowd': 0}, {'id': 1, 'image_id': 210, 'category_id': 1, 'bbox': [250, 187, 293, 359], 'area': 105187, 'iscrowd': 0}, {'id': 1, 'image_id': 211, 'category_id': 1, 'bbox': [59, 263, 111, 146], 'area': 16206, 'iscrowd': 0}, {'id': 1, 'image_id': 212, 'category_id': 1, 'bbox': [80, 8, 278, 364], 'area': 101192, 'iscrowd': 0}, {'id': 1, 'image_id': 213, 'category_id': 1, 'bbox': [243, 313, 106, 84], 'area': 8904, 'iscrowd': 0}, {'id': 1, 'image_id': 214, 'category_id': 1, 'bbox': [185, 254, 153, 132], 'area': 20196, 'iscrowd': 0}, {'id': 1, 'image_id': 215, 'category_id': 1, 'bbox': [309, 82, 316, 425], 'area': 134300, 'iscrowd': 0}, {'id': 1, 'image_id': 216, 'category_id': 1, 'bbox': [187, 17, 149, 125], 'area': 18625, 'iscrowd': 0}, {'id': 1, 'image_id': 217, 'category_id': 1, 'bbox': [304, 209, 180, 320], 'area': 57600, 'iscrowd': 0}, {'id': 1, 'image_id': 218, 'category_id': 1, 'bbox': [112, 141, 281, 266], 'area': 74746, 'iscrowd': 0}, {'id': 1, 'image_id': 219, 'category_id': 1, 'bbox': [108, 149, 308, 380], 'area': 117040, 'iscrowd': 0}, {'id': 1, 'image_id': 220, 'category_id': 1, 'bbox': [140, 274, 177, 196], 'area': 34692, 'iscrowd': 0}, {'id': 1, 'image_id': 221, 'category_id': 1, 'bbox': [290, 35, 148, 123], 'area': 18204, 'iscrowd': 0}, {'id': 1, 'image_id': 222, 'category_id': 1, 'bbox': [169, 122, 296, 299], 'area': 88504, 'iscrowd': 0}, {'id': 1, 'image_id': 223, 'category_id': 1, 'bbox': [321, 84, 177, 158], 'area': 27966, 'iscrowd': 0}, {'id': 1, 'image_id': 224, 'category_id': 1, 'bbox': [62, 44, 318, 435], 'area': 138330, 'iscrowd': 0}, {'id': 1, 'image_id': 225, 'category_id': 1, 'bbox': [140, 52, 339, 384], 'area': 130176, 'iscrowd': 0}, {'id': 1, 'image_id': 226, 'category_id': 1, 'bbox': [284, 220, 165, 222], 'area': 36630, 'iscrowd': 0}, {'id': 1, 'image_id': 227, 'category_id': 1, 'bbox': [221, 130, 376, 332], 'area': 124832, 'iscrowd': 0}, {'id': 1, 'image_id': 228, 'category_id': 1, 'bbox': [325, 172, 185, 175], 'area': 32375, 'iscrowd': 0}, {'id': 1, 'image_id': 229, 'category_id': 1, 'bbox': [221, 82, 213, 174], 'area': 37062, 'iscrowd': 0}, {'id': 1, 'image_id': 230, 'category_id': 1, 'bbox': [359, 97, 230, 246], 'area': 56580, 'iscrowd': 0}, {'id': 1, 'image_id': 231, 'category_id': 1, 'bbox': [403, 277, 115, 104], 'area': 11960, 'iscrowd': 0}, {'id': 1, 'image_id': 232, 'category_id': 1, 'bbox': [80, 312, 295, 219], 'area': 64605, 'iscrowd': 0}, {'id': 1, 'image_id': 233, 'category_id': 1, 'bbox': [168, 43, 408, 247], 'area': 100776, 'iscrowd': 0}, {'id': 1, 'image_id': 234, 'category_id': 1, 'bbox': [120, 7, 431, 501], 'area': 215931, 'iscrowd': 0}, {'id': 1, 'image_id': 235, 'category_id': 1, 'bbox': [201, 179, 283, 226], 'area': 63958, 'iscrowd': 0}, {'id': 1, 'image_id': 236, 'category_id': 1, 'bbox': [394, 144, 168, 176], 'area': 29568, 'iscrowd': 0}, {'id': 1, 'image_id': 237, 'category_id': 1, 'bbox': [196, 86, 416, 391], 'area': 162656, 'iscrowd': 0}, {'id': 1, 'image_id': 238, 'category_id': 1, 'bbox': [67, 72, 298, 330], 'area': 98340, 'iscrowd': 0}, {'id': 1, 'image_id': 239, 'category_id': 1, 'bbox': [262, 0, 192, 326], 'area': 62592, 'iscrowd': 0}, {'id': 1, 'image_id': 240, 'category_id': 1, 'bbox': [362, 256, 234, 246], 'area': 57564, 'iscrowd': 0}, {'id': 1, 'image_id': 241, 'category_id': 1, 'bbox': [438, 58, 121, 111], 'area': 13431, 'iscrowd': 0}, {'id': 1, 'image_id': 242, 'category_id': 1, 'bbox': [327, 202, 92, 59], 'area': 5428, 'iscrowd': 0}, {'id': 1, 'image_id': 243, 'category_id': 1, 'bbox': [143, 0, 403, 523], 'area': 210769, 'iscrowd': 0}, {'id': 1, 'image_id': 244, 'category_id': 1, 'bbox': [215, 152, 195, 240], 'area': 46800, 'iscrowd': 0}, {'id': 1, 'image_id': 245, 'category_id': 1, 'bbox': [350, 0, 237, 244], 'area': 57828, 'iscrowd': 0}, {'id': 1, 'image_id': 246, 'category_id': 1, 'bbox': [76, 66, 441, 462], 'area': 203742, 'iscrowd': 0}, {'id': 1, 'image_id': 247, 'category_id': 1, 'bbox': [121, 6, 232, 256], 'area': 59392, 'iscrowd': 0}, {'id': 1, 'image_id': 248, 'category_id': 1, 'bbox': [215, 201, 230, 249], 'area': 57270, 'iscrowd': 0}, {'id': 1, 'image_id': 249, 'category_id': 1, 'bbox': [139, 65, 145, 108], 'area': 15660, 'iscrowd': 0}, {'id': 1, 'image_id': 250, 'category_id': 1, 'bbox': [289, 107, 185, 235], 'area': 43475, 'iscrowd': 0}, {'id': 1, 'image_id': 251, 'category_id': 1, 'bbox': [289, 83, 125, 111], 'area': 13875, 'iscrowd': 0}, {'id': 1, 'image_id': 252, 'category_id': 1, 'bbox': [171, 47, 181, 180], 'area': 32580, 'iscrowd': 0}, {'id': 1, 'image_id': 253, 'category_id': 1, 'bbox': [58, 211, 213, 258], 'area': 54954, 'iscrowd': 0}, {'id': 1, 'image_id': 254, 'category_id': 1, 'bbox': [177, 0, 244, 221], 'area': 53924, 'iscrowd': 0}, {'id': 1, 'image_id': 255, 'category_id': 1, 'bbox': [117, 207, 284, 265], 'area': 75260, 'iscrowd': 0}, {'id': 1, 'image_id': 256, 'category_id': 1, 'bbox': [318, 227, 277, 288], 'area': 79776, 'iscrowd': 0}, {'id': 1, 'image_id': 257, 'category_id': 1, 'bbox': [341, 126, 232, 279], 'area': 64728, 'iscrowd': 0}, {'id': 1, 'image_id': 258, 'category_id': 1, 'bbox': [20, 245, 435, 286], 'area': 124410, 'iscrowd': 0}, {'id': 1, 'image_id': 259, 'category_id': 1, 'bbox': [351, 27, 165, 234], 'area': 38610, 'iscrowd': 0}, {'id': 1, 'image_id': 260, 'category_id': 1, 'bbox': [179, 97, 177, 141], 'area': 24957, 'iscrowd': 0}, {'id': 1, 'image_id': 261, 'category_id': 1, 'bbox': [88, 316, 340, 231], 'area': 78540, 'iscrowd': 0}, {'id': 1, 'image_id': 262, 'category_id': 1, 'bbox': [166, 263, 791, 795], 'area': 628845, 'iscrowd': 0}, {'id': 1, 'image_id': 263, 'category_id': 1, 'bbox': [81, 263, 280, 255], 'area': 71400, 'iscrowd': 0}, {'id': 1, 'image_id': 264, 'category_id': 1, 'bbox': [0, 1, 1345, 995], 'area': 1338275, 'iscrowd': 0}, {'id': 1, 'image_id': 265, 'category_id': 1, 'bbox': [131, 82, 92, 255], 'area': 23460, 'iscrowd': 0}, {'id': 2, 'image_id': 265, 'category_id': 1, 'bbox': [186, 157, 2, 4], 'area': 8, 'iscrowd': 0}, {'id': 1, 'image_id': 266, 'category_id': 1, 'bbox': [51, 21, 569, 510], 'area': 290190, 'iscrowd': 0}, {'id': 1, 'image_id': 267, 'category_id': 1, 'bbox': [166, 134, 211, 253], 'area': 53383, 'iscrowd': 0}, {'id': 1, 'image_id': 268, 'category_id': 1, 'bbox': [280, 103, 178, 85], 'area': 15130, 'iscrowd': 0}, {'id': 1, 'image_id': 269, 'category_id': 1, 'bbox': [216, 50, 227, 327], 'area': 74229, 'iscrowd': 0}, {'id': 1, 'image_id': 270, 'category_id': 1, 'bbox': [212, 98, 217, 245], 'area': 53165, 'iscrowd': 0}, {'id': 1, 'image_id': 271, 'category_id': 1, 'bbox': [248, 179, 399, 325], 'area': 129675, 'iscrowd': 0}, {'id': 1, 'image_id': 272, 'category_id': 1, 'bbox': [344, 75, 270, 290], 'area': 78300, 'iscrowd': 0}, {'id': 1, 'image_id': 273, 'category_id': 1, 'bbox': [52, 116, 206, 225], 'area': 46350, 'iscrowd': 0}, {'id': 1, 'image_id': 274, 'category_id': 1, 'bbox': [226, 41, 431, 516], 'area': 222396, 'iscrowd': 0}, {'id': 1, 'image_id': 275, 'category_id': 1, 'bbox': [271, 218, 80, 94], 'area': 7520, 'iscrowd': 0}, {'id': 1, 'image_id': 276, 'category_id': 1, 'bbox': [667, 413, 340, 350], 'area': 119000, 'iscrowd': 0}, {'id': 1, 'image_id': 277, 'category_id': 1, 'bbox': [326, 145, 227, 342], 'area': 77634, 'iscrowd': 0}, {'id': 1, 'image_id': 278, 'category_id': 1, 'bbox': [205, 198, 225, 289], 'area': 65025, 'iscrowd': 0}, {'id': 1, 'image_id': 279, 'category_id': 1, 'bbox': [348, 273, 244, 280], 'area': 68320, 'iscrowd': 0}, {'id': 1, 'image_id': 280, 'category_id': 1, 'bbox': [0, 7, 557, 487], 'area': 271259, 'iscrowd': 0}, {'id': 2, 'image_id': 280, 'category_id': 1, 'bbox': [432, 144, 11, 3], 'area': 33, 'iscrowd': 0}, {'id': 1, 'image_id': 281, 'category_id': 1, 'bbox': [380, 135, 188, 252], 'area': 47376, 'iscrowd': 0}, {'id': 2, 'image_id': 281, 'category_id': 1, 'bbox': [329, 207, 43, 56], 'area': 2408, 'iscrowd': 0}, {'id': 1, 'image_id': 282, 'category_id': 1, 'bbox': [363, 387, 145, 159], 'area': 23055, 'iscrowd': 0}, {'id': 1, 'image_id': 283, 'category_id': 1, 'bbox': [388, 260, 226, 236], 'area': 53336, 'iscrowd': 0}, {'id': 1, 'image_id': 284, 'category_id': 1, 'bbox': [181, 157, 225, 231], 'area': 51975, 'iscrowd': 0}, {'id': 1, 'image_id': 285, 'category_id': 1, 'bbox': [296, 0, 127, 198], 'area': 25146, 'iscrowd': 0}, {'id': 2, 'image_id': 285, 'category_id': 1, 'bbox': [431, 375, 71, 95], 'area': 6745, 'iscrowd': 0}, {'id': 1, 'image_id': 286, 'category_id': 1, 'bbox': [16, 91, 408, 337], 'area': 137496, 'iscrowd': 0}, {'id': 1, 'image_id': 287, 'category_id': 1, 'bbox': [320, 205, 170, 133], 'area': 22610, 'iscrowd': 0}, {'id': 1, 'image_id': 288, 'category_id': 1, 'bbox': [89, 283, 293, 196], 'area': 57428, 'iscrowd': 0}, {'id': 1, 'image_id': 289, 'category_id': 1, 'bbox': [334, 84, 95, 215], 'area': 20425, 'iscrowd': 0}, {'id': 1, 'image_id': 290, 'category_id': 1, 'bbox': [275, 216, 295, 314], 'area': 92630, 'iscrowd': 0}, {'id': 1, 'image_id': 291, 'category_id': 1, 'bbox': [293, 0, 303, 473], 'area': 143319, 'iscrowd': 0}, {'id': 1, 'image_id': 292, 'category_id': 1, 'bbox': [297, 306, 91, 74], 'area': 6734, 'iscrowd': 0}, {'id': 1, 'image_id': 293, 'category_id': 1, 'bbox': [0, 0, 570, 529], 'area': 301530, 'iscrowd': 0}, {'id': 1, 'image_id': 294, 'category_id': 1, 'bbox': [144, 143, 385, 259], 'area': 99715, 'iscrowd': 0}, {'id': 1, 'image_id': 295, 'category_id': 1, 'bbox': [209, 148, 223, 279], 'area': 62217, 'iscrowd': 0}, {'id': 1, 'image_id': 296, 'category_id': 1, 'bbox': [172, 114, 304, 250], 'area': 76000, 'iscrowd': 0}, {'id': 1, 'image_id': 297, 'category_id': 1, 'bbox': [274, 184, 37, 38], 'area': 1406, 'iscrowd': 0}, {'id': 1, 'image_id': 298, 'category_id': 1, 'bbox': [138, 0, 486, 341], 'area': 165726, 'iscrowd': 0}, {'id': 1, 'image_id': 299, 'category_id': 1, 'bbox': [373, 242, 114, 115], 'area': 13110, 'iscrowd': 0}, {'id': 1, 'image_id': 300, 'category_id': 1, 'bbox': [0, 0, 621, 528], 'area': 327888, 'iscrowd': 0}], 'categories': [{'id': 1, 'name': 'polyp'}]}\n"
          ]
        }
      ]
    },
    {
      "cell_type": "code",
      "source": [
        "print(len(Test_image_ids))"
      ],
      "metadata": {
        "colab": {
          "base_uri": "https://localhost:8080/"
        },
        "id": "4WRe-IzTzkor",
        "outputId": "61ceb7ba-0f95-4b92-fff6-8cbad5b41da5"
      },
      "execution_count": null,
      "outputs": [
        {
          "output_type": "stream",
          "name": "stdout",
          "text": [
            "300\n"
          ]
        }
      ]
    },
    {
      "cell_type": "markdown",
      "source": [
        "# Split images into validation and train"
      ],
      "metadata": {
        "id": "9AMXoW3T4kIv"
      }
    },
    {
      "cell_type": "code",
      "source": [
        "# import shutil\n",
        "# import os\n",
        "\n",
        "# #validation\n",
        "# for i in Test_image_ids:\n",
        "#   image_name = i +'.jpg'\n",
        "#   shutil.copy('/content/drive/MyDrive/BSc_Project/Kvasir-SEG/images/'+ image_name,'/content/drive/MyDrive/BSc_Project/Kvasir-SEG/Val_300')\n"
      ],
      "metadata": {
        "id": "tVN73-Tdy7qw"
      },
      "execution_count": null,
      "outputs": []
    },
    {
      "cell_type": "code",
      "source": [
        "import os\n",
        "print(len(os.listdir('/content/drive/MyDrive/BSc_Project/Kvasir-SEG/Val_300')))"
      ],
      "metadata": {
        "colab": {
          "base_uri": "https://localhost:8080/"
        },
        "id": "HJr3ERgnCivL",
        "outputId": "c94b0686-9a63-4231-ee3b-9834f64145b4"
      },
      "execution_count": null,
      "outputs": [
        {
          "output_type": "stream",
          "name": "stdout",
          "text": [
            "300\n"
          ]
        }
      ]
    },
    {
      "cell_type": "code",
      "source": [
        "for i in Test_image_ids:\n",
        "  image_name = i + '.jpg'\n",
        "  if image_name not in os.listdir('/content/drive/MyDrive/BSc_Project/Val_300/images'):\n",
        "    print('shit')\n",
        "    print(image_name)\n",
        "    break"
      ],
      "metadata": {
        "id": "tZ556bDtiTBu"
      },
      "execution_count": null,
      "outputs": []
    },
    {
      "cell_type": "code",
      "source": [
        "print(len(Train_image_ids))"
      ],
      "metadata": {
        "colab": {
          "base_uri": "https://localhost:8080/"
        },
        "id": "2_Ibqrf4gWso",
        "outputId": "c7d371af-4c4b-440c-ccf8-8e671d4b2332"
      },
      "execution_count": null,
      "outputs": [
        {
          "output_type": "stream",
          "name": "stdout",
          "text": [
            "700\n"
          ]
        }
      ]
    },
    {
      "cell_type": "code",
      "source": [
        "import os\n",
        "\n",
        "os.mkdir('/content/drive/MyDrive/BSc_Project/Train_700/images')"
      ],
      "metadata": {
        "id": "BnlOVAJRlnPu"
      },
      "execution_count": null,
      "outputs": []
    },
    {
      "cell_type": "code",
      "source": [
        "import shutil\n",
        "#Train\n",
        "for i in Train_image_ids:\n",
        "  image_name = i +'.jpg'\n",
        "  shutil.copy('/content/drive/MyDrive/BSc_Project/Kvasir-SEG/images/'+ image_name,'/content/drive/MyDrive/BSc_Project/Train_700/images')\n"
      ],
      "metadata": {
        "id": "beB-4eBW3udv"
      },
      "execution_count": null,
      "outputs": []
    },
    {
      "cell_type": "code",
      "source": [
        "# check all images in the folder\n",
        "for i in Train_image_ids:\n",
        "  image_name = i + '.jpg'\n",
        "  if image_name not in os.listdir('/content/drive/MyDrive/BSc_Project/Train_700/images'):\n",
        "    print('shit')\n",
        "    print(image_name)\n",
        "    break"
      ],
      "metadata": {
        "id": "5kCt0Zz_gvTJ"
      },
      "execution_count": null,
      "outputs": []
    },
    {
      "cell_type": "code",
      "source": [
        "import os\n",
        "print(len(os.listdir('/content/drive/MyDrive/BSc_Project/Train_700/images')))"
      ],
      "metadata": {
        "colab": {
          "base_uri": "https://localhost:8080/"
        },
        "id": "zmqRKe9sCtIH",
        "outputId": "1853e09d-d642-45ae-abfa-ba94dd55ad18"
      },
      "execution_count": null,
      "outputs": [
        {
          "output_type": "stream",
          "name": "stdout",
          "text": [
            "700\n"
          ]
        }
      ]
    },
    {
      "cell_type": "code",
      "source": [
        "import shutil\n",
        "\n",
        "shutil.copy('/content/Train_700.json','/content/drive/MyDrive/BSc_Project/Kvasir-SEG/annotation')\n",
        "shutil.copy('/content/Val_300.json','/content/drive/MyDrive/BSc_Project/Kvasir-SEG/annotation')"
      ],
      "metadata": {
        "colab": {
          "base_uri": "https://localhost:8080/",
          "height": 35
        },
        "id": "aHuOT8NC0xso",
        "outputId": "9064efc8-9f5d-487d-97a2-b62bf587d636"
      },
      "execution_count": null,
      "outputs": [
        {
          "output_type": "execute_result",
          "data": {
            "text/plain": [
              "'/content/drive/MyDrive/BSc_Project/Kvasir-SEG/annotation/Val_300.json'"
            ],
            "application/vnd.google.colaboratory.intrinsic+json": {
              "type": "string"
            }
          },
          "metadata": {},
          "execution_count": 35
        }
      ]
    },
    {
      "cell_type": "code",
      "source": [
        "import json\n",
        "\n",
        "with open('/content/drive/MyDrive/BSc_Project/Kvasir-SEG/annotation/Train_700.json','r') as f :\n",
        "  Train_coco = json.load(f)\n",
        "\n",
        "with open('/content/drive/MyDrive/BSc_Project/Kvasir-SEG/annotation/Val_300.json','r') as f:\n",
        "  Val_coco = json.load(f)\n",
        "\n",
        "print('numebr of Train coco:',len(Train_coco['images']))\n",
        "print('number of Val coco:',len(Val_coco['images']))"
      ],
      "metadata": {
        "colab": {
          "base_uri": "https://localhost:8080/"
        },
        "id": "7dR587kbFlNY",
        "outputId": "e46c166e-c7df-450e-daa9-cc58ed38fd40"
      },
      "execution_count": null,
      "outputs": [
        {
          "output_type": "stream",
          "name": "stdout",
          "text": [
            "numebr of Train coco: 700\n",
            "number of Val coco: 300\n"
          ]
        }
      ]
    },
    {
      "cell_type": "markdown",
      "source": [
        "# Train 600 Val 200 Test 200"
      ],
      "metadata": {
        "id": "eRlY9dvlJJRW"
      }
    },
    {
      "cell_type": "code",
      "source": [
        "# Load the COCO JSON file\n",
        "with open(Annots_Path, 'r') as f:\n",
        "    coco_data = json.load(f)\n",
        "Collect_image_ids = list(coco_data.keys())\n",
        "Collect_image_ann = list(coco_data.values())\n",
        "Train_image_ids = Collect_image_ids[:600]\n",
        "Train_image_anns = Collect_image_ann[:600]\n",
        "Val_image_ids = Collect_image_ids[600:800]\n",
        "Val_image_anns = Collect_image_ann[600:800]\n",
        "Test_image_ids = Collect_image_ids[800:]\n",
        "Test_image_anns = Collect_image_ann[800:]\n",
        "Train_ = modify_cocoformat(dict(zip(Train_image_ids, Train_image_anns)))\n",
        "Val_ = modify_cocoformat(dict(zip(Val_image_ids,Train_image_anns)))\n",
        "Test_ = modify_cocoformat(dict(zip(Test_image_ids, Test_image_anns)))\n",
        "\n",
        "# Save coco json file\n",
        "with open('train_600.json', 'w') as f:\n",
        "    json.dump(Train_, f)\n",
        "with open('val_200.json', 'w') as f:\n",
        "    json.dump(Val_, f)\n",
        "with open('test_200.json', 'w') as f:\n",
        "    json.dump(Test_, f)"
      ],
      "metadata": {
        "id": "U93T7JYLJMhW"
      },
      "execution_count": null,
      "outputs": []
    },
    {
      "cell_type": "code",
      "source": [
        "import shutil\n",
        "\n",
        "shutil.copy('/content/test_200.json','/content/drive/MyDrive/BSc_Project/Kvasir-SEG/annotation')\n",
        "shutil.copy('/content/train_600.json','/content/drive/MyDrive/BSc_Project/Kvasir-SEG/annotation')\n",
        "shutil.copy('/content/val_200.json','/content/drive/MyDrive/BSc_Project/Kvasir-SEG/annotation')"
      ],
      "metadata": {
        "colab": {
          "base_uri": "https://localhost:8080/",
          "height": 35
        },
        "id": "owbKXUR3JPqL",
        "outputId": "dc7988cd-a32e-430f-dd6c-1b2f44a6fa5a"
      },
      "execution_count": null,
      "outputs": [
        {
          "output_type": "execute_result",
          "data": {
            "text/plain": [
              "'/content/drive/MyDrive/BSc_Project/Kvasir-SEG/annotation/val_200.json'"
            ],
            "application/vnd.google.colaboratory.intrinsic+json": {
              "type": "string"
            }
          },
          "metadata": {},
          "execution_count": 18
        }
      ]
    },
    {
      "cell_type": "markdown",
      "source": [
        "# Open coco file"
      ],
      "metadata": {
        "id": "rdfsPAD2JiO7"
      }
    },
    {
      "cell_type": "code",
      "source": [
        "# Open coco json file\n",
        "with open('test_200.json', 'r') as test:\n",
        "    Test_coco_data = json.load(test)\n",
        "with open('train_800.json', 'r') as train:\n",
        "    Train_coco_data = json.load(train)\n",
        "\n",
        "# Open coco json file\n",
        "with open('test_200.json', 'r') as test:\n",
        "    Test_coco_data = json.load(test)\n",
        "with open('train_800.json', 'r') as train:\n",
        "    Train_coco_data = json.load(train)\n",
        "# Open coco json file\n",
        "with open('val_200.json', 'r') as val:\n",
        "    Val_coco_data = json.load(val)"
      ],
      "metadata": {
        "id": "nGsOhl-rJltk"
      },
      "execution_count": null,
      "outputs": []
    },
    {
      "cell_type": "code",
      "source": [
        "import os\n",
        "\n",
        "print(len(os.listdir('/content/drive/MyDrive/BSc_Project/Train_700/images')))\n",
        "print(len(os.listdir('/content/drive/MyDrive/BSc_Project/Val_300/images')))\n"
      ],
      "metadata": {
        "colab": {
          "base_uri": "https://localhost:8080/",
          "height": 215
        },
        "id": "goqB-L6GYEw7",
        "outputId": "dedbaec3-7479-4f81-9ee5-dbd24159d8d8"
      },
      "execution_count": null,
      "outputs": [
        {
          "output_type": "stream",
          "name": "stdout",
          "text": [
            "134\n"
          ]
        },
        {
          "output_type": "error",
          "ename": "FileNotFoundError",
          "evalue": "ignored",
          "traceback": [
            "\u001b[0;31m---------------------------------------------------------------------------\u001b[0m",
            "\u001b[0;31mFileNotFoundError\u001b[0m                         Traceback (most recent call last)",
            "\u001b[0;32m<ipython-input-28-cbdb06133d34>\u001b[0m in \u001b[0;36m<cell line: 4>\u001b[0;34m()\u001b[0m\n\u001b[1;32m      2\u001b[0m \u001b[0;34m\u001b[0m\u001b[0m\n\u001b[1;32m      3\u001b[0m \u001b[0mprint\u001b[0m\u001b[0;34m(\u001b[0m\u001b[0mlen\u001b[0m\u001b[0;34m(\u001b[0m\u001b[0mos\u001b[0m\u001b[0;34m.\u001b[0m\u001b[0mlistdir\u001b[0m\u001b[0;34m(\u001b[0m\u001b[0;34m'/content/drive/MyDrive/BSc_Project/Train_700/images'\u001b[0m\u001b[0;34m)\u001b[0m\u001b[0;34m)\u001b[0m\u001b[0;34m)\u001b[0m\u001b[0;34m\u001b[0m\u001b[0;34m\u001b[0m\u001b[0m\n\u001b[0;32m----> 4\u001b[0;31m \u001b[0mprint\u001b[0m\u001b[0;34m(\u001b[0m\u001b[0mlen\u001b[0m\u001b[0;34m(\u001b[0m\u001b[0mos\u001b[0m\u001b[0;34m.\u001b[0m\u001b[0mlistdir\u001b[0m\u001b[0;34m(\u001b[0m\u001b[0;34m'/content/drive/MyDrive/BSc_Project/Val_300/images'\u001b[0m\u001b[0;34m)\u001b[0m\u001b[0;34m)\u001b[0m\u001b[0;34m)\u001b[0m\u001b[0;34m\u001b[0m\u001b[0;34m\u001b[0m\u001b[0m\n\u001b[0m",
            "\u001b[0;31mFileNotFoundError\u001b[0m: [Errno 2] No such file or directory: '/content/drive/MyDrive/BSc_Project/Val_300/images'"
          ]
        }
      ]
    }
  ]
}
